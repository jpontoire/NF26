{
 "cells": [
  {
   "cell_type": "markdown",
   "metadata": {},
   "source": [
    "# NF26/AI07 - TD2 : Création d'un Modèle en Étoile (Correction)\n",
    "\n",
    "**Auteur :** Cyprien Gilet"
   ]
  },
  {
   "cell_type": "code",
   "execution_count": 1,
   "metadata": {},
   "outputs": [],
   "source": [
    "import os\n",
    "os.environ[\"PYARROW_IGNORE_TIMEZONE\"] = \"1\""
   ]
  },
  {
   "cell_type": "code",
   "execution_count": 2,
   "metadata": {},
   "outputs": [],
   "source": [
    "import pandas as pd\n",
    "import numpy as np\n",
    "from datetime import datetime, date\n",
    "\n",
    "import pyspark.pandas as ps\n",
    "from pyspark.sql import SparkSession\n",
    "from pyspark.sql import Row"
   ]
  },
  {
   "cell_type": "code",
   "execution_count": 4,
   "metadata": {},
   "outputs": [],
   "source": [
    "spark = SparkSession.builder.getOrCreate()"
   ]
  },
  {
   "cell_type": "markdown",
   "metadata": {},
   "source": [
    "## Introduction\n"
   ]
  },
  {
   "cell_type": "markdown",
   "metadata": {},
   "source": [
    "## Lecture des données \n"
   ]
  },
  {
   "cell_type": "code",
   "execution_count": 7,
   "metadata": {},
   "outputs": [
    {
     "data": {
      "text/html": [
       "<div>\n",
       "<style scoped>\n",
       "    .dataframe tbody tr th:only-of-type {\n",
       "        vertical-align: middle;\n",
       "    }\n",
       "\n",
       "    .dataframe tbody tr th {\n",
       "        vertical-align: top;\n",
       "    }\n",
       "\n",
       "    .dataframe thead th {\n",
       "        text-align: right;\n",
       "    }\n",
       "</style>\n",
       "<table border=\"1\" class=\"dataframe\">\n",
       "  <thead>\n",
       "    <tr style=\"text-align: right;\">\n",
       "      <th></th>\n",
       "      <th>KeyPatient</th>\n",
       "      <th>Name</th>\n",
       "      <th>FirstName</th>\n",
       "      <th>NumSecu</th>\n",
       "      <th>Date_In</th>\n",
       "      <th>Pathology</th>\n",
       "      <th>KeyChambre</th>\n",
       "      <th>ChambreNumber</th>\n",
       "      <th>Date_Out</th>\n",
       "    </tr>\n",
       "    <tr>\n",
       "      <th>KeyConsult</th>\n",
       "      <th></th>\n",
       "      <th></th>\n",
       "      <th></th>\n",
       "      <th></th>\n",
       "      <th></th>\n",
       "      <th></th>\n",
       "      <th></th>\n",
       "      <th></th>\n",
       "      <th></th>\n",
       "    </tr>\n",
       "  </thead>\n",
       "  <tbody>\n",
       "    <tr>\n",
       "      <th>KeyConsult45056</th>\n",
       "      <td>KeyPatient10546</td>\n",
       "      <td>Name10546</td>\n",
       "      <td>FistName10546</td>\n",
       "      <td>NS45057</td>\n",
       "      <td>2023-11-25</td>\n",
       "      <td>Pathology22</td>\n",
       "      <td>KeyChambre81</td>\n",
       "      <td>C081</td>\n",
       "      <td>2023-11-26</td>\n",
       "    </tr>\n",
       "    <tr>\n",
       "      <th>KeyConsult45057</th>\n",
       "      <td>KeyPatient45482</td>\n",
       "      <td>Name45482</td>\n",
       "      <td>FistName45482</td>\n",
       "      <td>NS45058</td>\n",
       "      <td>2023-11-25</td>\n",
       "      <td>Pathology34</td>\n",
       "      <td>KeyChambre102</td>\n",
       "      <td>C102</td>\n",
       "      <td>2023-11-26</td>\n",
       "    </tr>\n",
       "    <tr>\n",
       "      <th>KeyConsult45058</th>\n",
       "      <td>KeyPatient37050</td>\n",
       "      <td>Name37050</td>\n",
       "      <td>FistName37050</td>\n",
       "      <td>NS45059</td>\n",
       "      <td>2023-11-25</td>\n",
       "      <td>Pathology84</td>\n",
       "      <td>KeyChambre22</td>\n",
       "      <td>C022</td>\n",
       "      <td>2023-12-05</td>\n",
       "    </tr>\n",
       "    <tr>\n",
       "      <th>KeyConsult45059</th>\n",
       "      <td>KeyPatient39793</td>\n",
       "      <td>Name39793</td>\n",
       "      <td>FistName39793</td>\n",
       "      <td>NS45060</td>\n",
       "      <td>2023-11-25</td>\n",
       "      <td>Pathology78</td>\n",
       "      <td>KeyChambre4</td>\n",
       "      <td>C004</td>\n",
       "      <td>2023-12-01</td>\n",
       "    </tr>\n",
       "    <tr>\n",
       "      <th>KeyConsult45060</th>\n",
       "      <td>KeyPatient17652</td>\n",
       "      <td>Name17652</td>\n",
       "      <td>FistName17652</td>\n",
       "      <td>NS45061</td>\n",
       "      <td>2023-11-25</td>\n",
       "      <td>Pathology15</td>\n",
       "      <td>KeyChambre29</td>\n",
       "      <td>C029</td>\n",
       "      <td>2023-11-26</td>\n",
       "    </tr>\n",
       "    <tr>\n",
       "      <th>KeyConsult45061</th>\n",
       "      <td>KeyPatient40034</td>\n",
       "      <td>Name40034</td>\n",
       "      <td>FistName40034</td>\n",
       "      <td>NS45062</td>\n",
       "      <td>2023-11-25</td>\n",
       "      <td>Pathology7</td>\n",
       "      <td>KeyChambre60</td>\n",
       "      <td>C060</td>\n",
       "      <td>2023-11-26</td>\n",
       "    </tr>\n",
       "    <tr>\n",
       "      <th>KeyConsult45062</th>\n",
       "      <td>KeyPatient38237</td>\n",
       "      <td>Name38237</td>\n",
       "      <td>FistName38237</td>\n",
       "      <td>NS45063</td>\n",
       "      <td>2023-11-25</td>\n",
       "      <td>Pathology7</td>\n",
       "      <td>KeyChambre5</td>\n",
       "      <td>C005</td>\n",
       "      <td>2023-11-27</td>\n",
       "    </tr>\n",
       "    <tr>\n",
       "      <th>KeyConsult45063</th>\n",
       "      <td>KeyPatient17519</td>\n",
       "      <td>Name17519</td>\n",
       "      <td>FistName17519</td>\n",
       "      <td>NS45064</td>\n",
       "      <td>2023-11-25</td>\n",
       "      <td>Pathology67</td>\n",
       "      <td>KeyChambre84</td>\n",
       "      <td>C084</td>\n",
       "      <td>2023-12-03</td>\n",
       "    </tr>\n",
       "    <tr>\n",
       "      <th>KeyConsult45064</th>\n",
       "      <td>KeyPatient28813</td>\n",
       "      <td>Name28813</td>\n",
       "      <td>FistName28813</td>\n",
       "      <td>NS45065</td>\n",
       "      <td>2023-11-25</td>\n",
       "      <td>Pathology56</td>\n",
       "      <td>KeyChambre51</td>\n",
       "      <td>C051</td>\n",
       "      <td>2023-11-26</td>\n",
       "    </tr>\n",
       "    <tr>\n",
       "      <th>KeyConsult45065</th>\n",
       "      <td>KeyPatient20313</td>\n",
       "      <td>Name20313</td>\n",
       "      <td>FistName20313</td>\n",
       "      <td>NS45066</td>\n",
       "      <td>2023-11-25</td>\n",
       "      <td>Pathology54</td>\n",
       "      <td>KeyChambre37</td>\n",
       "      <td>C037</td>\n",
       "      <td>2023-11-26</td>\n",
       "    </tr>\n",
       "  </tbody>\n",
       "</table>\n",
       "</div>"
      ],
      "text/plain": [
       "                      KeyPatient       Name      FirstName  NumSecu    Date_In    Pathology     KeyChambre ChambreNumber   Date_Out\n",
       "KeyConsult                                                                                                                         \n",
       "KeyConsult45056  KeyPatient10546  Name10546  FistName10546  NS45057 2023-11-25  Pathology22   KeyChambre81          C081 2023-11-26\n",
       "KeyConsult45057  KeyPatient45482  Name45482  FistName45482  NS45058 2023-11-25  Pathology34  KeyChambre102          C102 2023-11-26\n",
       "KeyConsult45058  KeyPatient37050  Name37050  FistName37050  NS45059 2023-11-25  Pathology84   KeyChambre22          C022 2023-12-05\n",
       "KeyConsult45059  KeyPatient39793  Name39793  FistName39793  NS45060 2023-11-25  Pathology78    KeyChambre4          C004 2023-12-01\n",
       "KeyConsult45060  KeyPatient17652  Name17652  FistName17652  NS45061 2023-11-25  Pathology15   KeyChambre29          C029 2023-11-26\n",
       "KeyConsult45061  KeyPatient40034  Name40034  FistName40034  NS45062 2023-11-25   Pathology7   KeyChambre60          C060 2023-11-26\n",
       "KeyConsult45062  KeyPatient38237  Name38237  FistName38237  NS45063 2023-11-25   Pathology7    KeyChambre5          C005 2023-11-27\n",
       "KeyConsult45063  KeyPatient17519  Name17519  FistName17519  NS45064 2023-11-25  Pathology67   KeyChambre84          C084 2023-12-03\n",
       "KeyConsult45064  KeyPatient28813  Name28813  FistName28813  NS45065 2023-11-25  Pathology56   KeyChambre51          C051 2023-11-26\n",
       "KeyConsult45065  KeyPatient20313  Name20313  FistName20313  NS45066 2023-11-25  Pathology54   KeyChambre37          C037 2023-11-26"
      ]
     },
     "execution_count": 7,
     "metadata": {},
     "output_type": "execute_result"
    }
   ],
   "source": [
    "psdf_administration = ps.read_csv('data_administration.csv', index_col='KeyConsult')\n",
    "psdf_administration.head(10)"
   ]
  },
  {
   "cell_type": "code",
   "execution_count": 8,
   "metadata": {},
   "outputs": [
    {
     "data": {
      "text/html": [
       "<div>\n",
       "<style scoped>\n",
       "    .dataframe tbody tr th:only-of-type {\n",
       "        vertical-align: middle;\n",
       "    }\n",
       "\n",
       "    .dataframe tbody tr th {\n",
       "        vertical-align: top;\n",
       "    }\n",
       "\n",
       "    .dataframe thead th {\n",
       "        text-align: right;\n",
       "    }\n",
       "</style>\n",
       "<table border=\"1\" class=\"dataframe\">\n",
       "  <thead>\n",
       "    <tr style=\"text-align: right;\">\n",
       "      <th></th>\n",
       "      <th>NameMedecin</th>\n",
       "      <th>FirstNameMedecin</th>\n",
       "      <th>SpecialityMedecin</th>\n",
       "    </tr>\n",
       "    <tr>\n",
       "      <th>KeyMedecin</th>\n",
       "      <th></th>\n",
       "      <th></th>\n",
       "      <th></th>\n",
       "    </tr>\n",
       "  </thead>\n",
       "  <tbody>\n",
       "    <tr>\n",
       "      <th>keyMedecin26</th>\n",
       "      <td>NameMedecin26</td>\n",
       "      <td>FirstNameMedecin26</td>\n",
       "      <td>Generaliste</td>\n",
       "    </tr>\n",
       "    <tr>\n",
       "      <th>keyMedecin27</th>\n",
       "      <td>NameMedecin27</td>\n",
       "      <td>FirstNameMedecin27</td>\n",
       "      <td>Chirurgien</td>\n",
       "    </tr>\n",
       "    <tr>\n",
       "      <th>keyMedecin28</th>\n",
       "      <td>NameMedecin28</td>\n",
       "      <td>FirstNameMedecin28</td>\n",
       "      <td>Dermatologiste</td>\n",
       "    </tr>\n",
       "    <tr>\n",
       "      <th>keyMedecin29</th>\n",
       "      <td>NameMedecin29</td>\n",
       "      <td>FirstNameMedecin29</td>\n",
       "      <td>Generaliste</td>\n",
       "    </tr>\n",
       "    <tr>\n",
       "      <th>keyMedecin16</th>\n",
       "      <td>NameMedecin16</td>\n",
       "      <td>FirstNameMedecin16</td>\n",
       "      <td>Chirurgien</td>\n",
       "    </tr>\n",
       "    <tr>\n",
       "      <th>keyMedecin17</th>\n",
       "      <td>NameMedecin17</td>\n",
       "      <td>FirstNameMedecin17</td>\n",
       "      <td>Chirurgien</td>\n",
       "    </tr>\n",
       "    <tr>\n",
       "      <th>keyMedecin18</th>\n",
       "      <td>NameMedecin18</td>\n",
       "      <td>FirstNameMedecin18</td>\n",
       "      <td>Chirurgien</td>\n",
       "    </tr>\n",
       "    <tr>\n",
       "      <th>keyMedecin19</th>\n",
       "      <td>NameMedecin19</td>\n",
       "      <td>FirstNameMedecin19</td>\n",
       "      <td>Generaliste</td>\n",
       "    </tr>\n",
       "    <tr>\n",
       "      <th>keyMedecin6</th>\n",
       "      <td>NameMedecin6</td>\n",
       "      <td>FirstNameMedecin6</td>\n",
       "      <td>Dermatologiste</td>\n",
       "    </tr>\n",
       "    <tr>\n",
       "      <th>keyMedecin7</th>\n",
       "      <td>NameMedecin7</td>\n",
       "      <td>FirstNameMedecin7</td>\n",
       "      <td>Chirurgien</td>\n",
       "    </tr>\n",
       "  </tbody>\n",
       "</table>\n",
       "</div>"
      ],
      "text/plain": [
       "                NameMedecin    FirstNameMedecin SpecialityMedecin\n",
       "KeyMedecin                                                       \n",
       "keyMedecin26  NameMedecin26  FirstNameMedecin26       Generaliste\n",
       "keyMedecin27  NameMedecin27  FirstNameMedecin27        Chirurgien\n",
       "keyMedecin28  NameMedecin28  FirstNameMedecin28    Dermatologiste\n",
       "keyMedecin29  NameMedecin29  FirstNameMedecin29       Generaliste\n",
       "keyMedecin16  NameMedecin16  FirstNameMedecin16        Chirurgien\n",
       "keyMedecin17  NameMedecin17  FirstNameMedecin17        Chirurgien\n",
       "keyMedecin18  NameMedecin18  FirstNameMedecin18        Chirurgien\n",
       "keyMedecin19  NameMedecin19  FirstNameMedecin19       Generaliste\n",
       "keyMedecin6    NameMedecin6   FirstNameMedecin6    Dermatologiste\n",
       "keyMedecin7    NameMedecin7   FirstNameMedecin7        Chirurgien"
      ]
     },
     "execution_count": 8,
     "metadata": {},
     "output_type": "execute_result"
    }
   ],
   "source": [
    "psdf_medecins = ps.read_csv('data_medecins.csv', index_col='KeyMedecin')\n",
    "psdf_medecins.head(10)"
   ]
  },
  {
   "cell_type": "code",
   "execution_count": 9,
   "metadata": {},
   "outputs": [
    {
     "data": {
      "text/html": [
       "<div>\n",
       "<style scoped>\n",
       "    .dataframe tbody tr th:only-of-type {\n",
       "        vertical-align: middle;\n",
       "    }\n",
       "\n",
       "    .dataframe tbody tr th {\n",
       "        vertical-align: top;\n",
       "    }\n",
       "\n",
       "    .dataframe thead th {\n",
       "        text-align: right;\n",
       "    }\n",
       "</style>\n",
       "<table border=\"1\" class=\"dataframe\">\n",
       "  <thead>\n",
       "    <tr style=\"text-align: right;\">\n",
       "      <th></th>\n",
       "      <th>KeyMedecin</th>\n",
       "      <th>KeyPatient</th>\n",
       "      <th>NamePatient</th>\n",
       "      <th>FirstNamePatient</th>\n",
       "      <th>NumSecu</th>\n",
       "      <th>Age</th>\n",
       "      <th>Weight</th>\n",
       "      <th>Temperature</th>\n",
       "      <th>Tension</th>\n",
       "      <th>Diabete</th>\n",
       "      <th>Pathology</th>\n",
       "      <th>KeyTreatment</th>\n",
       "    </tr>\n",
       "    <tr>\n",
       "      <th>KeyConsult</th>\n",
       "      <th></th>\n",
       "      <th></th>\n",
       "      <th></th>\n",
       "      <th></th>\n",
       "      <th></th>\n",
       "      <th></th>\n",
       "      <th></th>\n",
       "      <th></th>\n",
       "      <th></th>\n",
       "      <th></th>\n",
       "      <th></th>\n",
       "      <th></th>\n",
       "    </tr>\n",
       "  </thead>\n",
       "  <tbody>\n",
       "    <tr>\n",
       "      <th>KeyConsult45056</th>\n",
       "      <td>keyMedecin26</td>\n",
       "      <td>KeyPatient10546</td>\n",
       "      <td>Name10546</td>\n",
       "      <td>FistName10546</td>\n",
       "      <td>NS45057</td>\n",
       "      <td>24</td>\n",
       "      <td>58.759522</td>\n",
       "      <td>37.459899</td>\n",
       "      <td>135.700753</td>\n",
       "      <td>0</td>\n",
       "      <td>Pathology22</td>\n",
       "      <td>KeyTreatment45056</td>\n",
       "    </tr>\n",
       "    <tr>\n",
       "      <th>KeyConsult45057</th>\n",
       "      <td>keyMedecin22</td>\n",
       "      <td>KeyPatient45482</td>\n",
       "      <td>Name45482</td>\n",
       "      <td>FistName45482</td>\n",
       "      <td>NS45058</td>\n",
       "      <td>19</td>\n",
       "      <td>58.422513</td>\n",
       "      <td>37.488268</td>\n",
       "      <td>95.790925</td>\n",
       "      <td>0</td>\n",
       "      <td>Pathology34</td>\n",
       "      <td>KeyTreatment45057</td>\n",
       "    </tr>\n",
       "    <tr>\n",
       "      <th>KeyConsult45058</th>\n",
       "      <td>keyMedecin14</td>\n",
       "      <td>KeyPatient37050</td>\n",
       "      <td>Name37050</td>\n",
       "      <td>FistName37050</td>\n",
       "      <td>NS45059</td>\n",
       "      <td>50</td>\n",
       "      <td>80.125748</td>\n",
       "      <td>38.023957</td>\n",
       "      <td>89.173819</td>\n",
       "      <td>1</td>\n",
       "      <td>Pathology84</td>\n",
       "      <td>KeyTreatment45058</td>\n",
       "    </tr>\n",
       "    <tr>\n",
       "      <th>KeyConsult45059</th>\n",
       "      <td>keyMedecin29</td>\n",
       "      <td>KeyPatient39793</td>\n",
       "      <td>Name39793</td>\n",
       "      <td>FistName39793</td>\n",
       "      <td>NS45060</td>\n",
       "      <td>76</td>\n",
       "      <td>69.306556</td>\n",
       "      <td>39.966692</td>\n",
       "      <td>116.606928</td>\n",
       "      <td>0</td>\n",
       "      <td>Pathology78</td>\n",
       "      <td>KeyTreatment45059</td>\n",
       "    </tr>\n",
       "    <tr>\n",
       "      <th>KeyConsult45060</th>\n",
       "      <td>keyMedecin18</td>\n",
       "      <td>KeyPatient17652</td>\n",
       "      <td>Name17652</td>\n",
       "      <td>FistName17652</td>\n",
       "      <td>NS45061</td>\n",
       "      <td>22</td>\n",
       "      <td>56.173338</td>\n",
       "      <td>37.463554</td>\n",
       "      <td>161.955995</td>\n",
       "      <td>0</td>\n",
       "      <td>Pathology15</td>\n",
       "      <td>KeyTreatment45060</td>\n",
       "    </tr>\n",
       "    <tr>\n",
       "      <th>KeyConsult45061</th>\n",
       "      <td>keyMedecin21</td>\n",
       "      <td>KeyPatient40034</td>\n",
       "      <td>Name40034</td>\n",
       "      <td>FistName40034</td>\n",
       "      <td>NS45062</td>\n",
       "      <td>16</td>\n",
       "      <td>55.421938</td>\n",
       "      <td>37.554036</td>\n",
       "      <td>153.418985</td>\n",
       "      <td>0</td>\n",
       "      <td>Pathology7</td>\n",
       "      <td>KeyTreatment45061</td>\n",
       "    </tr>\n",
       "    <tr>\n",
       "      <th>KeyConsult45062</th>\n",
       "      <td>keyMedecin18</td>\n",
       "      <td>KeyPatient38237</td>\n",
       "      <td>Name38237</td>\n",
       "      <td>FistName38237</td>\n",
       "      <td>NS45063</td>\n",
       "      <td>22</td>\n",
       "      <td>63.067835</td>\n",
       "      <td>37.213361</td>\n",
       "      <td>171.359467</td>\n",
       "      <td>0</td>\n",
       "      <td>Pathology7</td>\n",
       "      <td>KeyTreatment45062</td>\n",
       "    </tr>\n",
       "    <tr>\n",
       "      <th>KeyConsult45063</th>\n",
       "      <td>keyMedecin2</td>\n",
       "      <td>KeyPatient17519</td>\n",
       "      <td>Name17519</td>\n",
       "      <td>FistName17519</td>\n",
       "      <td>NS45064</td>\n",
       "      <td>34</td>\n",
       "      <td>58.652805</td>\n",
       "      <td>38.459865</td>\n",
       "      <td>107.910361</td>\n",
       "      <td>0</td>\n",
       "      <td>Pathology67</td>\n",
       "      <td>KeyTreatment45063</td>\n",
       "    </tr>\n",
       "    <tr>\n",
       "      <th>KeyConsult45064</th>\n",
       "      <td>keyMedecin21</td>\n",
       "      <td>KeyPatient28813</td>\n",
       "      <td>Name28813</td>\n",
       "      <td>FistName28813</td>\n",
       "      <td>NS45065</td>\n",
       "      <td>27</td>\n",
       "      <td>59.233520</td>\n",
       "      <td>37.535722</td>\n",
       "      <td>123.634315</td>\n",
       "      <td>0</td>\n",
       "      <td>Pathology56</td>\n",
       "      <td>KeyTreatment45064</td>\n",
       "    </tr>\n",
       "    <tr>\n",
       "      <th>KeyConsult45065</th>\n",
       "      <td>keyMedecin29</td>\n",
       "      <td>KeyPatient20313</td>\n",
       "      <td>Name20313</td>\n",
       "      <td>FistName20313</td>\n",
       "      <td>NS45066</td>\n",
       "      <td>16</td>\n",
       "      <td>59.965158</td>\n",
       "      <td>37.403517</td>\n",
       "      <td>114.139109</td>\n",
       "      <td>0</td>\n",
       "      <td>Pathology54</td>\n",
       "      <td>KeyTreatment45065</td>\n",
       "    </tr>\n",
       "  </tbody>\n",
       "</table>\n",
       "</div>"
      ],
      "text/plain": [
       "                   KeyMedecin       KeyPatient NamePatient FirstNamePatient  NumSecu  Age     Weight  Temperature     Tension  Diabete    Pathology       KeyTreatment\n",
       "KeyConsult                                                                                                                                                            \n",
       "KeyConsult45056  keyMedecin26  KeyPatient10546   Name10546    FistName10546  NS45057   24  58.759522    37.459899  135.700753        0  Pathology22  KeyTreatment45056\n",
       "KeyConsult45057  keyMedecin22  KeyPatient45482   Name45482    FistName45482  NS45058   19  58.422513    37.488268   95.790925        0  Pathology34  KeyTreatment45057\n",
       "KeyConsult45058  keyMedecin14  KeyPatient37050   Name37050    FistName37050  NS45059   50  80.125748    38.023957   89.173819        1  Pathology84  KeyTreatment45058\n",
       "KeyConsult45059  keyMedecin29  KeyPatient39793   Name39793    FistName39793  NS45060   76  69.306556    39.966692  116.606928        0  Pathology78  KeyTreatment45059\n",
       "KeyConsult45060  keyMedecin18  KeyPatient17652   Name17652    FistName17652  NS45061   22  56.173338    37.463554  161.955995        0  Pathology15  KeyTreatment45060\n",
       "KeyConsult45061  keyMedecin21  KeyPatient40034   Name40034    FistName40034  NS45062   16  55.421938    37.554036  153.418985        0   Pathology7  KeyTreatment45061\n",
       "KeyConsult45062  keyMedecin18  KeyPatient38237   Name38237    FistName38237  NS45063   22  63.067835    37.213361  171.359467        0   Pathology7  KeyTreatment45062\n",
       "KeyConsult45063   keyMedecin2  KeyPatient17519   Name17519    FistName17519  NS45064   34  58.652805    38.459865  107.910361        0  Pathology67  KeyTreatment45063\n",
       "KeyConsult45064  keyMedecin21  KeyPatient28813   Name28813    FistName28813  NS45065   27  59.233520    37.535722  123.634315        0  Pathology56  KeyTreatment45064\n",
       "KeyConsult45065  keyMedecin29  KeyPatient20313   Name20313    FistName20313  NS45066   16  59.965158    37.403517  114.139109        0  Pathology54  KeyTreatment45065"
      ]
     },
     "execution_count": 9,
     "metadata": {},
     "output_type": "execute_result"
    }
   ],
   "source": [
    "psdf_diagnostics = ps.read_csv('data_diagnostics.csv', index_col='KeyConsult')\n",
    "psdf_diagnostics.head(10)"
   ]
  },
  {
   "cell_type": "code",
   "execution_count": 10,
   "metadata": {},
   "outputs": [
    {
     "data": {
      "text/html": [
       "<div>\n",
       "<style scoped>\n",
       "    .dataframe tbody tr th:only-of-type {\n",
       "        vertical-align: middle;\n",
       "    }\n",
       "\n",
       "    .dataframe tbody tr th {\n",
       "        vertical-align: top;\n",
       "    }\n",
       "\n",
       "    .dataframe thead th {\n",
       "        text-align: right;\n",
       "    }\n",
       "</style>\n",
       "<table border=\"1\" class=\"dataframe\">\n",
       "  <thead>\n",
       "    <tr style=\"text-align: right;\">\n",
       "      <th></th>\n",
       "      <th>KeyMedicament</th>\n",
       "      <th>QuantityMedicament</th>\n",
       "    </tr>\n",
       "    <tr>\n",
       "      <th>KeyTreatment</th>\n",
       "      <th></th>\n",
       "      <th></th>\n",
       "    </tr>\n",
       "  </thead>\n",
       "  <tbody>\n",
       "    <tr>\n",
       "      <th>KeyTreatment20495</th>\n",
       "      <td>KeyMed513</td>\n",
       "      <td>1</td>\n",
       "    </tr>\n",
       "    <tr>\n",
       "      <th>KeyTreatment20495</th>\n",
       "      <td>KeyMed852</td>\n",
       "      <td>2</td>\n",
       "    </tr>\n",
       "    <tr>\n",
       "      <th>KeyTreatment20495</th>\n",
       "      <td>KeyMed265</td>\n",
       "      <td>1</td>\n",
       "    </tr>\n",
       "    <tr>\n",
       "      <th>KeyTreatment20496</th>\n",
       "      <td>KeyMed82</td>\n",
       "      <td>2</td>\n",
       "    </tr>\n",
       "    <tr>\n",
       "      <th>KeyTreatment20497</th>\n",
       "      <td>KeyMed67</td>\n",
       "      <td>1</td>\n",
       "    </tr>\n",
       "    <tr>\n",
       "      <th>KeyTreatment20497</th>\n",
       "      <td>KeyMed21</td>\n",
       "      <td>3</td>\n",
       "    </tr>\n",
       "    <tr>\n",
       "      <th>KeyTreatment20498</th>\n",
       "      <td>KeyMed697</td>\n",
       "      <td>1</td>\n",
       "    </tr>\n",
       "    <tr>\n",
       "      <th>KeyTreatment20499</th>\n",
       "      <td>KeyMed2</td>\n",
       "      <td>2</td>\n",
       "    </tr>\n",
       "    <tr>\n",
       "      <th>KeyTreatment20500</th>\n",
       "      <td>KeyMed47</td>\n",
       "      <td>2</td>\n",
       "    </tr>\n",
       "    <tr>\n",
       "      <th>KeyTreatment20500</th>\n",
       "      <td>KeyMed581</td>\n",
       "      <td>3</td>\n",
       "    </tr>\n",
       "  </tbody>\n",
       "</table>\n",
       "</div>"
      ],
      "text/plain": [
       "                  KeyMedicament  QuantityMedicament\n",
       "KeyTreatment                                       \n",
       "KeyTreatment20495     KeyMed513                   1\n",
       "KeyTreatment20495     KeyMed852                   2\n",
       "KeyTreatment20495     KeyMed265                   1\n",
       "KeyTreatment20496      KeyMed82                   2\n",
       "KeyTreatment20497      KeyMed67                   1\n",
       "KeyTreatment20497      KeyMed21                   3\n",
       "KeyTreatment20498     KeyMed697                   1\n",
       "KeyTreatment20499       KeyMed2                   2\n",
       "KeyTreatment20500      KeyMed47                   2\n",
       "KeyTreatment20500     KeyMed581                   3"
      ]
     },
     "execution_count": 10,
     "metadata": {},
     "output_type": "execute_result"
    }
   ],
   "source": [
    "psdf_treatments = ps.read_csv('data_treatments.csv', index_col='KeyTreatment')\n",
    "psdf_treatments.head(10)"
   ]
  },
  {
   "cell_type": "code",
   "execution_count": 11,
   "metadata": {},
   "outputs": [
    {
     "data": {
      "text/html": [
       "<div>\n",
       "<style scoped>\n",
       "    .dataframe tbody tr th:only-of-type {\n",
       "        vertical-align: middle;\n",
       "    }\n",
       "\n",
       "    .dataframe tbody tr th {\n",
       "        vertical-align: top;\n",
       "    }\n",
       "\n",
       "    .dataframe thead th {\n",
       "        text-align: right;\n",
       "    }\n",
       "</style>\n",
       "<table border=\"1\" class=\"dataframe\">\n",
       "  <thead>\n",
       "    <tr style=\"text-align: right;\">\n",
       "      <th></th>\n",
       "      <th>NameMedicament</th>\n",
       "    </tr>\n",
       "    <tr>\n",
       "      <th>KeyMedicament</th>\n",
       "      <th></th>\n",
       "    </tr>\n",
       "  </thead>\n",
       "  <tbody>\n",
       "    <tr>\n",
       "      <th>KeyMed913</th>\n",
       "      <td>Medicament913</td>\n",
       "    </tr>\n",
       "    <tr>\n",
       "      <th>KeyMed914</th>\n",
       "      <td>Medicament914</td>\n",
       "    </tr>\n",
       "    <tr>\n",
       "      <th>KeyMed915</th>\n",
       "      <td>Medicament915</td>\n",
       "    </tr>\n",
       "    <tr>\n",
       "      <th>KeyMed916</th>\n",
       "      <td>Medicament916</td>\n",
       "    </tr>\n",
       "    <tr>\n",
       "      <th>KeyMed917</th>\n",
       "      <td>Medicament917</td>\n",
       "    </tr>\n",
       "    <tr>\n",
       "      <th>KeyMed918</th>\n",
       "      <td>Medicament918</td>\n",
       "    </tr>\n",
       "    <tr>\n",
       "      <th>KeyMed919</th>\n",
       "      <td>Medicament919</td>\n",
       "    </tr>\n",
       "    <tr>\n",
       "      <th>KeyMed920</th>\n",
       "      <td>Medicament920</td>\n",
       "    </tr>\n",
       "    <tr>\n",
       "      <th>KeyMed921</th>\n",
       "      <td>Medicament921</td>\n",
       "    </tr>\n",
       "    <tr>\n",
       "      <th>KeyMed922</th>\n",
       "      <td>Medicament922</td>\n",
       "    </tr>\n",
       "  </tbody>\n",
       "</table>\n",
       "</div>"
      ],
      "text/plain": [
       "              NameMedicament\n",
       "KeyMedicament               \n",
       "KeyMed913      Medicament913\n",
       "KeyMed914      Medicament914\n",
       "KeyMed915      Medicament915\n",
       "KeyMed916      Medicament916\n",
       "KeyMed917      Medicament917\n",
       "KeyMed918      Medicament918\n",
       "KeyMed919      Medicament919\n",
       "KeyMed920      Medicament920\n",
       "KeyMed921      Medicament921\n",
       "KeyMed922      Medicament922"
      ]
     },
     "execution_count": 11,
     "metadata": {},
     "output_type": "execute_result"
    }
   ],
   "source": [
    "psdf_medicaments = ps.read_csv('data_medicaments.csv', index_col='KeyMedicament')\n",
    "psdf_medicaments.head(10)"
   ]
  },
  {
   "cell_type": "code",
   "execution_count": 12,
   "metadata": {},
   "outputs": [
    {
     "data": {
      "text/html": [
       "<div>\n",
       "<style scoped>\n",
       "    .dataframe tbody tr th:only-of-type {\n",
       "        vertical-align: middle;\n",
       "    }\n",
       "\n",
       "    .dataframe tbody tr th {\n",
       "        vertical-align: top;\n",
       "    }\n",
       "\n",
       "    .dataframe thead th {\n",
       "        text-align: right;\n",
       "    }\n",
       "</style>\n",
       "<table border=\"1\" class=\"dataframe\">\n",
       "  <thead>\n",
       "    <tr style=\"text-align: right;\">\n",
       "      <th></th>\n",
       "      <th>ChambreNumber</th>\n",
       "    </tr>\n",
       "    <tr>\n",
       "      <th>KeyChambre</th>\n",
       "      <th></th>\n",
       "    </tr>\n",
       "  </thead>\n",
       "  <tbody>\n",
       "    <tr>\n",
       "      <th>KeyChambre89</th>\n",
       "      <td>C089</td>\n",
       "    </tr>\n",
       "    <tr>\n",
       "      <th>KeyChambre90</th>\n",
       "      <td>C090</td>\n",
       "    </tr>\n",
       "    <tr>\n",
       "      <th>KeyChambre91</th>\n",
       "      <td>C091</td>\n",
       "    </tr>\n",
       "    <tr>\n",
       "      <th>KeyChambre92</th>\n",
       "      <td>C092</td>\n",
       "    </tr>\n",
       "    <tr>\n",
       "      <th>KeyChambre93</th>\n",
       "      <td>C093</td>\n",
       "    </tr>\n",
       "    <tr>\n",
       "      <th>KeyChambre94</th>\n",
       "      <td>C094</td>\n",
       "    </tr>\n",
       "    <tr>\n",
       "      <th>KeyChambre95</th>\n",
       "      <td>C095</td>\n",
       "    </tr>\n",
       "    <tr>\n",
       "      <th>KeyChambre96</th>\n",
       "      <td>C096</td>\n",
       "    </tr>\n",
       "    <tr>\n",
       "      <th>KeyChambre97</th>\n",
       "      <td>C097</td>\n",
       "    </tr>\n",
       "    <tr>\n",
       "      <th>KeyChambre98</th>\n",
       "      <td>C098</td>\n",
       "    </tr>\n",
       "  </tbody>\n",
       "</table>\n",
       "</div>"
      ],
      "text/plain": [
       "             ChambreNumber\n",
       "KeyChambre                \n",
       "KeyChambre89          C089\n",
       "KeyChambre90          C090\n",
       "KeyChambre91          C091\n",
       "KeyChambre92          C092\n",
       "KeyChambre93          C093\n",
       "KeyChambre94          C094\n",
       "KeyChambre95          C095\n",
       "KeyChambre96          C096\n",
       "KeyChambre97          C097\n",
       "KeyChambre98          C098"
      ]
     },
     "execution_count": 12,
     "metadata": {},
     "output_type": "execute_result"
    }
   ],
   "source": [
    "psdf_chambres = ps.read_csv('data_chambres.csv', index_col='KeyChambre')\n",
    "psdf_chambres.head(10)"
   ]
  },
  {
   "cell_type": "code",
   "execution_count": null,
   "metadata": {},
   "outputs": [],
   "source": []
  },
  {
   "cell_type": "code",
   "execution_count": 13,
   "metadata": {},
   "outputs": [],
   "source": [
    "sdf_administration = psdf_administration.to_spark(index_col='KeyConsult')\n",
    "sdf_medecins = psdf_medecins.to_spark(index_col='KeyMedecin')\n",
    "sdf_diagnostics = psdf_diagnostics.to_spark(index_col='KeyConsult')\n",
    "sdf_treatments = psdf_treatments.to_spark(index_col='KeyTreatment')\n",
    "sdf_medicaments = psdf_medicaments.to_spark(index_col='KeyMedicament')\n",
    "sdf_chambres = psdf_chambres.to_spark(index_col='KeyChambre')"
   ]
  },
  {
   "cell_type": "code",
   "execution_count": 14,
   "metadata": {},
   "outputs": [],
   "source": [
    "from pyspark.sql.functions import *"
   ]
  },
  {
   "cell_type": "markdown",
   "metadata": {},
   "source": [
    "## Partie 1 : Première Étoile\n"
   ]
  },
  {
   "cell_type": "markdown",
   "metadata": {},
   "source": [
    "**Question 1.** Créer la `table de faits` associée aux `Consultations`."
   ]
  },
  {
   "cell_type": "code",
   "execution_count": 15,
   "metadata": {},
   "outputs": [
    {
     "name": "stdout",
     "output_type": "stream",
     "text": [
      "+---------------+------------+---------------+-----------------+-------------+---------------+\n",
      "|     KeyConsult|  KeyMedecin|     KeyPatient|     KeyTreatment|   KeyChambre|        KeyDate|\n",
      "+---------------+------------+---------------+-----------------+-------------+---------------+\n",
      "|KeyConsult45056|keyMedecin26|KeyPatient10546|KeyTreatment45056| KeyChambre81|KeyConsult45056|\n",
      "|KeyConsult45057|keyMedecin22|KeyPatient45482|KeyTreatment45057|KeyChambre102|KeyConsult45057|\n",
      "|KeyConsult45058|keyMedecin14|KeyPatient37050|KeyTreatment45058| KeyChambre22|KeyConsult45058|\n",
      "|KeyConsult45059|keyMedecin29|KeyPatient39793|KeyTreatment45059|  KeyChambre4|KeyConsult45059|\n",
      "|KeyConsult45060|keyMedecin18|KeyPatient17652|KeyTreatment45060| KeyChambre29|KeyConsult45060|\n",
      "|KeyConsult45061|keyMedecin21|KeyPatient40034|KeyTreatment45061| KeyChambre60|KeyConsult45061|\n",
      "|KeyConsult45062|keyMedecin18|KeyPatient38237|KeyTreatment45062|  KeyChambre5|KeyConsult45062|\n",
      "|KeyConsult45063| keyMedecin2|KeyPatient17519|KeyTreatment45063| KeyChambre84|KeyConsult45063|\n",
      "|KeyConsult45064|keyMedecin21|KeyPatient28813|KeyTreatment45064| KeyChambre51|KeyConsult45064|\n",
      "|KeyConsult45065|keyMedecin29|KeyPatient20313|KeyTreatment45065| KeyChambre37|KeyConsult45065|\n",
      "+---------------+------------+---------------+-----------------+-------------+---------------+\n",
      "only showing top 10 rows\n",
      "\n"
     ]
    }
   ],
   "source": [
    "sdf_FAITS_1 = sdf_diagnostics.select('KeyConsult','KeyMedecin','KeyPatient','KeyTreatment').alias('sdf_FAITS_1')\n",
    "sdf_adm = sdf_administration.select('KeyConsult','KeyChambre').alias('sdf_adm')\n",
    "sdf_FAITS_2 = sdf_FAITS_1.join(sdf_adm, sdf_FAITS_1.KeyConsult==sdf_adm.KeyConsult).select(sdf_FAITS_1[\"*\"],sdf_adm[\"KeyChambre\"])\n",
    "sdf_FAITS_consults = sdf_FAITS_2.withColumn('KeyDate', sdf_FAITS_2.KeyConsult)\n",
    "sdf_FAITS_consults.show(10)\n"
   ]
  },
  {
   "cell_type": "markdown",
   "metadata": {},
   "source": [
    "**Question 2.** Créer la `table de dimension` associée aux `Patients`."
   ]
  },
  {
   "cell_type": "code",
   "execution_count": 16,
   "metadata": {},
   "outputs": [
    {
     "name": "stdout",
     "output_type": "stream",
     "text": [
      "+---------------+---------------+-----------+----------------+-------+---+------------------+------------------+------------------+-------+-----------+\n",
      "|     KeyPatient|     KeyConsult|NamePatient|FirstNamePatient|NumSecu|Age|            Weight|       Temperature|           Tension|Diabete|  Pathology|\n",
      "+---------------+---------------+-----------+----------------+-------+---+------------------+------------------+------------------+-------+-----------+\n",
      "|KeyPatient10546|KeyConsult45056|  Name10546|   FistName10546|NS45057| 24| 58.75952185728825| 37.45989878643732| 135.7007525481543|      0|Pathology22|\n",
      "|KeyPatient45482|KeyConsult45057|  Name45482|   FistName45482|NS45058| 19| 58.42251330648344| 37.48826750167022| 95.79092452672673|      0|Pathology34|\n",
      "|KeyPatient37050|KeyConsult45058|  Name37050|   FistName37050|NS45059| 50|  80.1257478193804| 38.02395668303052| 89.17381944535508|      1|Pathology84|\n",
      "|KeyPatient39793|KeyConsult45059|  Name39793|   FistName39793|NS45060| 76|  69.3065564517231| 39.96669187576233|116.60692780964129|      0|Pathology78|\n",
      "|KeyPatient17652|KeyConsult45060|  Name17652|   FistName17652|NS45061| 22|56.173337592329766| 37.46355419422656|   161.95599532989|      0|Pathology15|\n",
      "|KeyPatient40034|KeyConsult45061|  Name40034|   FistName40034|NS45062| 16|55.421938193988126|  37.5540359392258| 153.4189854598361|      0| Pathology7|\n",
      "|KeyPatient38237|KeyConsult45062|  Name38237|   FistName38237|NS45063| 22| 63.06783527683545| 37.21336068162085| 171.3594672438247|      0| Pathology7|\n",
      "|KeyPatient17519|KeyConsult45063|  Name17519|   FistName17519|NS45064| 34|58.652805206924796| 38.45986517541939| 107.9103613504679|      0|Pathology67|\n",
      "|KeyPatient28813|KeyConsult45064|  Name28813|   FistName28813|NS45065| 27| 59.23351979317314|37.535722443670295|123.63431512596179|      0|Pathology56|\n",
      "|KeyPatient20313|KeyConsult45065|  Name20313|   FistName20313|NS45066| 16|59.965157886089045|37.403516808977436|114.13910943985506|      0|Pathology54|\n",
      "+---------------+---------------+-----------+----------------+-------+---+------------------+------------------+------------------+-------+-----------+\n",
      "only showing top 10 rows\n",
      "\n"
     ]
    }
   ],
   "source": [
    "sdf_dim_patients = sdf_diagnostics.select('KeyPatient','KeyConsult','NamePatient','FirstNamePatient','NumSecu','Age','Weight','Temperature','Tension','Diabete','Pathology').alias('sdf_dim_patients')\n",
    "sdf_dim_patients.show(10)"
   ]
  },
  {
   "cell_type": "markdown",
   "metadata": {},
   "source": [
    "**Question 2.** Créer la `table de dimension` associée aux `Medecins`."
   ]
  },
  {
   "cell_type": "code",
   "execution_count": 17,
   "metadata": {},
   "outputs": [
    {
     "name": "stdout",
     "output_type": "stream",
     "text": [
      "+------------+-------------+------------------+-----------------+\n",
      "|  KeyMedecin|  NameMedecin|  FirstNameMedecin|SpecialityMedecin|\n",
      "+------------+-------------+------------------+-----------------+\n",
      "|keyMedecin26|NameMedecin26|FirstNameMedecin26|      Generaliste|\n",
      "|keyMedecin27|NameMedecin27|FirstNameMedecin27|       Chirurgien|\n",
      "|keyMedecin28|NameMedecin28|FirstNameMedecin28|   Dermatologiste|\n",
      "|keyMedecin29|NameMedecin29|FirstNameMedecin29|      Generaliste|\n",
      "|keyMedecin16|NameMedecin16|FirstNameMedecin16|       Chirurgien|\n",
      "|keyMedecin17|NameMedecin17|FirstNameMedecin17|       Chirurgien|\n",
      "|keyMedecin18|NameMedecin18|FirstNameMedecin18|       Chirurgien|\n",
      "|keyMedecin19|NameMedecin19|FirstNameMedecin19|      Generaliste|\n",
      "| keyMedecin6| NameMedecin6| FirstNameMedecin6|   Dermatologiste|\n",
      "| keyMedecin7| NameMedecin7| FirstNameMedecin7|       Chirurgien|\n",
      "+------------+-------------+------------------+-----------------+\n",
      "only showing top 10 rows\n",
      "\n"
     ]
    }
   ],
   "source": [
    "sdf_dim_medecins = sdf_medecins.alias('sdf_dim_medecins')\n",
    "sdf_dim_medecins.show(10)"
   ]
  },
  {
   "cell_type": "markdown",
   "metadata": {},
   "source": [
    "**Question 3.** Créer la `table de dimension` associée aux `Traitements`."
   ]
  },
  {
   "cell_type": "code",
   "execution_count": 18,
   "metadata": {},
   "outputs": [
    {
     "name": "stdout",
     "output_type": "stream",
     "text": [
      "+-----------------+-------------+------------------+--------------+---------------+\n",
      "|     KeyTreatment|KeyMedicament|QuantityMedicament|NameMedicament|     KeyConsult|\n",
      "+-----------------+-------------+------------------+--------------+---------------+\n",
      "|KeyTreatment20495|    KeyMed513|                 1| Medicament513|KeyConsult20495|\n",
      "|KeyTreatment20495|    KeyMed852|                 2| Medicament852|KeyConsult20495|\n",
      "|KeyTreatment20495|    KeyMed265|                 1| Medicament265|KeyConsult20495|\n",
      "|KeyTreatment20496|     KeyMed82|                 2|  Medicament82|KeyConsult20496|\n",
      "|KeyTreatment20497|     KeyMed67|                 1|  Medicament67|KeyConsult20497|\n",
      "|KeyTreatment20497|     KeyMed21|                 3|  Medicament21|KeyConsult20497|\n",
      "|KeyTreatment20498|    KeyMed697|                 1| Medicament697|KeyConsult20498|\n",
      "|KeyTreatment20499|      KeyMed2|                 2|   Medicament2|KeyConsult20499|\n",
      "|KeyTreatment20500|     KeyMed47|                 2|  Medicament47|KeyConsult20500|\n",
      "|KeyTreatment20500|    KeyMed581|                 3| Medicament581|KeyConsult20500|\n",
      "+-----------------+-------------+------------------+--------------+---------------+\n",
      "only showing top 10 rows\n",
      "\n"
     ]
    }
   ],
   "source": [
    "sdf_dim_traitement1 = sdf_treatments.alias('sdf_dim_traitements')\n",
    "sdf_dim_traitement2 = sdf_dim_traitement1.join(sdf_medicaments, sdf_dim_traitement1.KeyMedicament==sdf_medicaments.KeyMedicament).select(sdf_dim_traitement1[\"*\"],sdf_medicaments[\"NameMedicament\"])\n",
    "sdf_dim_traitements = sdf_dim_traitement2.join(sdf_diagnostics, sdf_dim_traitement2.KeyTreatment==sdf_diagnostics.KeyTreatment).select(sdf_dim_traitement2[\"*\"],sdf_diagnostics[\"KeyConsult\"])\n",
    "sdf_dim_traitements.show(10)\n",
    "\n"
   ]
  },
  {
   "cell_type": "markdown",
   "metadata": {},
   "source": [
    "**Question 4.** Créer la `table de dimension` associée aux `Chambres`."
   ]
  },
  {
   "cell_type": "code",
   "execution_count": 19,
   "metadata": {},
   "outputs": [
    {
     "name": "stdout",
     "output_type": "stream",
     "text": [
      "+-------------+-------------+\n",
      "|   KeyChambre|ChambreNumber|\n",
      "+-------------+-------------+\n",
      "| KeyChambre81|         C081|\n",
      "|KeyChambre102|         C102|\n",
      "| KeyChambre22|         C022|\n",
      "|  KeyChambre4|         C004|\n",
      "| KeyChambre29|         C029|\n",
      "| KeyChambre60|         C060|\n",
      "|  KeyChambre5|         C005|\n",
      "| KeyChambre84|         C084|\n",
      "| KeyChambre51|         C051|\n",
      "| KeyChambre37|         C037|\n",
      "+-------------+-------------+\n",
      "only showing top 10 rows\n",
      "\n"
     ]
    }
   ],
   "source": [
    "sdf_dim_chambres = sdf_administration.select('KeyChambre','ChambreNumber').alias('sdf_dim_chambres')\n",
    "sdf_dim_chambres.show(10)\n"
   ]
  },
  {
   "cell_type": "markdown",
   "metadata": {},
   "source": [
    "**Question 5.** Créer la `table de dimension` associée aux `Dates`."
   ]
  },
  {
   "cell_type": "code",
   "execution_count": 20,
   "metadata": {},
   "outputs": [
    {
     "name": "stdout",
     "output_type": "stream",
     "text": [
      "+---------------+---------------+-------------------+-------------------+\n",
      "|        KeyDate|     KeyConsult|            Date_In|           Date_Out|\n",
      "+---------------+---------------+-------------------+-------------------+\n",
      "|KeyConsult45056|KeyConsult45056|2023-11-25 00:00:00|2023-11-26 00:00:00|\n",
      "|KeyConsult45057|KeyConsult45057|2023-11-25 00:00:00|2023-11-26 00:00:00|\n",
      "|KeyConsult45058|KeyConsult45058|2023-11-25 00:00:00|2023-12-05 00:00:00|\n",
      "|KeyConsult45059|KeyConsult45059|2023-11-25 00:00:00|2023-12-01 00:00:00|\n",
      "|KeyConsult45060|KeyConsult45060|2023-11-25 00:00:00|2023-11-26 00:00:00|\n",
      "|KeyConsult45061|KeyConsult45061|2023-11-25 00:00:00|2023-11-26 00:00:00|\n",
      "|KeyConsult45062|KeyConsult45062|2023-11-25 00:00:00|2023-11-27 00:00:00|\n",
      "|KeyConsult45063|KeyConsult45063|2023-11-25 00:00:00|2023-12-03 00:00:00|\n",
      "|KeyConsult45064|KeyConsult45064|2023-11-25 00:00:00|2023-11-26 00:00:00|\n",
      "|KeyConsult45065|KeyConsult45065|2023-11-25 00:00:00|2023-11-26 00:00:00|\n",
      "+---------------+---------------+-------------------+-------------------+\n",
      "only showing top 10 rows\n",
      "\n"
     ]
    }
   ],
   "source": [
    "sdf_dim_date1 = sdf_FAITS_consults.select('KeyDate').alias('sdf_dim_date1')\n",
    "sdf_adm = sdf_administration.select('KeyConsult','Date_In','Date_Out').alias('sdf_adm')\n",
    "sdf_dim_dates = sdf_dim_date1.alias('sdf_dim_date1').join(sdf_adm.alias('sdf_adm'), sdf_dim_date1.KeyDate==sdf_adm.KeyConsult)\n",
    "sdf_dim_dates.show(10)\n"
   ]
  },
  {
   "cell_type": "markdown",
   "metadata": {},
   "source": [
    "**Question 6.** Quels a été l'âge moyen des patients qui ont eu la `Pathology75` durant le mois de mars 2023 ?"
   ]
  },
  {
   "cell_type": "code",
   "execution_count": 107,
   "metadata": {},
   "outputs": [
    {
     "name": "stdout",
     "output_type": "stream",
     "text": [
      "+-----------------+\n",
      "|         avg(Age)|\n",
      "+-----------------+\n",
      "|70.30434782608695|\n",
      "+-----------------+\n",
      "\n"
     ]
    }
   ],
   "source": [
    "Patient_Pathology75 = sdf_dim_patients.filter(col(\"Pathology\")==\"Pathology75\").select(col(\"KeyConsult\"))\n",
    "DatesMarch = sdf_dim_dates.filter(year(\"Date_in\")==2023).filter(month(\"Date_in\")==3).select(col(\"KeyConsult\"))\n",
    "# PatientsObjectif75 = DatesMarch.intersectAll(Patient_Pathology75)\n",
    "PatientsObjectif75 = DatesMarch.alias(\"s1\").join(Patient_Pathology75.alias(\"s2\"),'KeyConsult').select(DatesMarch[\"KeyConsult\"])\n",
    "sdf_dim_patients.alias(\"t1\").join(PatientsObjectif75.alias(\"t2\"),'KeyConsult').select(sdf_dim_patients[\"*\"]).select(avg(col(\"Age\"))).show()\n"
   ]
  },
  {
   "cell_type": "code",
   "execution_count": 94,
   "metadata": {},
   "outputs": [],
   "source": [
    "#sdf_dim_patients.join(PatientsObjectif,['KeyConsult']).select(col(\"KeyConsult\")).show(10)\n",
    "#sdf_dim_patients.select(col(\"KeyConsult\")).intersectAll(PatientsObjectif).show(10)"
   ]
  },
  {
   "cell_type": "markdown",
   "metadata": {},
   "source": [
    "**Question 7.** Quels a été l'âge moyen des patients qui ont eu la `Pathology15` durant le mois de mars 2023 ?"
   ]
  },
  {
   "cell_type": "code",
   "execution_count": 108,
   "metadata": {},
   "outputs": [
    {
     "name": "stdout",
     "output_type": "stream",
     "text": [
      "+-----------------+\n",
      "|         avg(Age)|\n",
      "+-----------------+\n",
      "|19.48780487804878|\n",
      "+-----------------+\n",
      "\n"
     ]
    }
   ],
   "source": [
    "Patient_Pathology15 = sdf_dim_patients.filter(col(\"Pathology\")==\"Pathology15\").select(col(\"KeyConsult\"))\n",
    "DatesMarch = sdf_dim_dates.filter(year(\"Date_in\")==2023).filter(month(\"Date_in\")==3).select(col(\"KeyConsult\"))\n",
    "PatientsObjectif15 = DatesMarch.alias(\"s1\").join(Patient_Pathology15.alias(\"s2\"),'KeyConsult').select(DatesMarch[\"KeyConsult\"])\n",
    "sdf_dim_patients.alias(\"t1\").join(PatientsObjectif15.alias(\"t2\"),'KeyConsult').select(sdf_dim_patients[\"*\"]).select(avg(col(\"Age\"))).show()\n"
   ]
  },
  {
   "cell_type": "markdown",
   "metadata": {},
   "source": [
    "**Question 8.** Quel Médicament a été le plus prescrit (en terme de quantité) pour la `Pathology15` durant le mois de mars 2023 ?"
   ]
  },
  {
   "cell_type": "code",
   "execution_count": 114,
   "metadata": {},
   "outputs": [
    {
     "name": "stdout",
     "output_type": "stream",
     "text": [
      "+----------------------------+\n",
      "|max(sum(QuantityMedicament))|\n",
      "+----------------------------+\n",
      "|                          14|\n",
      "+----------------------------+\n",
      "\n"
     ]
    }
   ],
   "source": [
    "TraitementObjectif15 = sdf_dim_traitements.alias(\"T1\").join(Patient_Pathology15.alias(\"T2\"),'KeyConsult')\n",
    "TraitementObjectif15.groupBy([\"KeyMedicament\"]).sum(\"QuantityMedicament\").select([max(col(\"sum(QuantityMedicament)\"))]).show()\n"
   ]
  },
  {
   "cell_type": "markdown",
   "metadata": {},
   "source": [
    "## Partie 2 : Constellation\n"
   ]
  },
  {
   "cell_type": "markdown",
   "metadata": {},
   "source": [
    "**Question 2.** Créer la `table de faits` associée aux `stock de medicaments`."
   ]
  },
  {
   "cell_type": "code",
   "execution_count": 62,
   "metadata": {},
   "outputs": [],
   "source": [
    "df = spark.createDataFrame([(2, \"Alice\"), (5, \"Bob\")]).toDF(\"age\", \"name\")\n",
    "df2 = spark.createDataFrame([Row(height=80, name=\"Tom\"), Row(height=85, name=\"Bob\")])\n",
    "df3 = spark.createDataFrame([Row(age=2, name=\"Alice\"), Row(age=5, name=\"Bob\")])\n",
    "df4 = spark.createDataFrame([\n",
    "    Row(age=10, height=80, name=\"Alice\"),\n",
    "    Row(age=5, height=None, name=\"Bob\"),\n",
    "    Row(age=None, height=None, name=\"Tom\"),\n",
    "    Row(age=None, height=None, name=None),\n",
    "])"
   ]
  },
  {
   "cell_type": "code",
   "execution_count": 63,
   "metadata": {},
   "outputs": [
    {
     "name": "stdout",
     "output_type": "stream",
     "text": [
      "+---+-----+\n",
      "|age| name|\n",
      "+---+-----+\n",
      "|  2|Alice|\n",
      "|  5|  Bob|\n",
      "+---+-----+\n",
      "\n"
     ]
    }
   ],
   "source": [
    "df.show()"
   ]
  },
  {
   "cell_type": "code",
   "execution_count": 65,
   "metadata": {},
   "outputs": [
    {
     "name": "stdout",
     "output_type": "stream",
     "text": [
      "+------+----+\n",
      "|height|name|\n",
      "+------+----+\n",
      "|    80| Tom|\n",
      "|    85| Bob|\n",
      "+------+----+\n",
      "\n"
     ]
    }
   ],
   "source": [
    "df2.show()"
   ]
  },
  {
   "cell_type": "code",
   "execution_count": 66,
   "metadata": {},
   "outputs": [
    {
     "name": "stdout",
     "output_type": "stream",
     "text": [
      "+---+-----+\n",
      "|age| name|\n",
      "+---+-----+\n",
      "|  2|Alice|\n",
      "|  5|  Bob|\n",
      "+---+-----+\n",
      "\n"
     ]
    }
   ],
   "source": [
    "df3.show()"
   ]
  },
  {
   "cell_type": "code",
   "execution_count": 67,
   "metadata": {},
   "outputs": [
    {
     "name": "stdout",
     "output_type": "stream",
     "text": [
      "+----+------+-----+\n",
      "| age|height| name|\n",
      "+----+------+-----+\n",
      "|  10|    80|Alice|\n",
      "|   5|  NULL|  Bob|\n",
      "|NULL|  NULL|  Tom|\n",
      "|NULL|  NULL| NULL|\n",
      "+----+------+-----+\n",
      "\n"
     ]
    }
   ],
   "source": [
    "df4.show()"
   ]
  },
  {
   "cell_type": "code",
   "execution_count": 68,
   "metadata": {},
   "outputs": [
    {
     "name": "stdout",
     "output_type": "stream",
     "text": [
      "+----+---+------+\n",
      "|name|age|height|\n",
      "+----+---+------+\n",
      "| Bob|  5|    85|\n",
      "+----+---+------+\n",
      "\n"
     ]
    }
   ],
   "source": [
    "df.join(df2, 'name').show()"
   ]
  },
  {
   "cell_type": "code",
   "execution_count": null,
   "metadata": {},
   "outputs": [],
   "source": []
  },
  {
   "cell_type": "code",
   "execution_count": null,
   "metadata": {},
   "outputs": [],
   "source": []
  }
 ],
 "metadata": {
  "kernelspec": {
   "display_name": "Python 3 (ipykernel)",
   "language": "python",
   "name": "python3"
  },
  "language_info": {
   "codemirror_mode": {
    "name": "ipython",
    "version": 3
   },
   "file_extension": ".py",
   "mimetype": "text/x-python",
   "name": "python",
   "nbconvert_exporter": "python",
   "pygments_lexer": "ipython3",
   "version": "3.11.4"
  }
 },
 "nbformat": 4,
 "nbformat_minor": 1
}
