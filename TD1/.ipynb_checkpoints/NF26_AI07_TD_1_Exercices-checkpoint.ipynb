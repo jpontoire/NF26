{
 "cells": [
  {
   "cell_type": "markdown",
   "metadata": {},
   "source": [
    "# NF26/AI07 - TD1 : Initiation à PySpark\n",
    "\n"
   ]
  },
  {
   "cell_type": "markdown",
   "metadata": {},
   "source": [
    "## Introduction à PySpark\n",
    "\n",
    "L'objectif de ce TD est de s'initier à PySpark sur une base de données simulées. \n",
    "Pour cela nous nous appuyerons sur le lien ci-dessous :\n",
    "- https://spark.apache.org/docs/latest/api/python/index.html\n",
    "\n",
    "**Introduction.** Durant les 15 premières minutes de ce TD, rechercher sur le site ci-dessus ou sur tout autre site des informations pour comprendre qu'est-ce que PySpark, quel est son lien avec Spark, quels sont ses avantages et pourquoi il est apprécié dans la communauté.\n",
    "\n",
    "**Installation de PySpark.** Compiler la commande ci-dessous pour installer PySpark."
   ]
  },
  {
   "cell_type": "code",
   "execution_count": 1,
   "metadata": {},
   "outputs": [],
   "source": [
    "#pip install pyspark"
   ]
  },
  {
   "cell_type": "code",
   "execution_count": 2,
   "metadata": {},
   "outputs": [],
   "source": [
    "import pandas as pd\n",
    "import numpy as np\n",
    "from datetime import datetime, date\n",
    "\n",
    "import os\n",
    "os.environ[\"PYARROW_IGNORE_TIMEZONE\"] = \"1\"\n",
    "\n",
    "import pyspark.pandas as ps\n",
    "from pyspark.sql import SparkSession\n",
    "from pyspark.sql import Row"
   ]
  },
  {
   "cell_type": "code",
   "execution_count": 14,
   "metadata": {},
   "outputs": [],
   "source": [
    "spark = SparkSession.builder.getOrCreate()"
   ]
  },
  {
   "cell_type": "markdown",
   "metadata": {},
   "source": [
    "## Information concernant la base de données `foo.csv`"
   ]
  },
  {
   "cell_type": "markdown",
   "metadata": {},
   "source": [
    "La base de données `foo.csv` est une base de données simulées et contient des informations générales concernant les patients qui sont arrivés dans un hopital durant l'année 2023."
   ]
  },
  {
   "cell_type": "markdown",
   "metadata": {},
   "source": [
    "La commande ci-dessous permet de lire la base de données `foo.csv`:"
   ]
  },
  {
   "cell_type": "code",
   "execution_count": 15,
   "metadata": {},
   "outputs": [
    {
     "name": "stderr",
     "output_type": "stream",
     "text": [
      "/Users/giletcyp/anaconda3/lib/python3.11/site-packages/pyspark/pandas/utils.py:1016: PandasAPIOnSparkAdviceWarning: If `index_col` is not specified for `read_csv`, the default index is attached which can cause additional overhead.\n",
      "  warnings.warn(message, PandasAPIOnSparkAdviceWarning)\n"
     ]
    },
    {
     "data": {
      "text/html": [
       "<div>\n",
       "<style scoped>\n",
       "    .dataframe tbody tr th:only-of-type {\n",
       "        vertical-align: middle;\n",
       "    }\n",
       "\n",
       "    .dataframe tbody tr th {\n",
       "        vertical-align: top;\n",
       "    }\n",
       "\n",
       "    .dataframe thead th {\n",
       "        text-align: right;\n",
       "    }\n",
       "</style>\n",
       "<table border=\"1\" class=\"dataframe\">\n",
       "  <thead>\n",
       "    <tr style=\"text-align: right;\">\n",
       "      <th></th>\n",
       "      <th>KeyConsult</th>\n",
       "      <th>KeyPatient</th>\n",
       "      <th>Name</th>\n",
       "      <th>FirstName</th>\n",
       "      <th>Date_In</th>\n",
       "      <th>Pathology</th>\n",
       "      <th>Date_Out</th>\n",
       "    </tr>\n",
       "  </thead>\n",
       "  <tbody>\n",
       "    <tr>\n",
       "      <th>0</th>\n",
       "      <td>KeyConsult9163</td>\n",
       "      <td>KeyPatient5557</td>\n",
       "      <td>Name5557</td>\n",
       "      <td>FistName5557</td>\n",
       "      <td>2023-11-30</td>\n",
       "      <td>Pathology89</td>\n",
       "      <td>2023-12-11</td>\n",
       "    </tr>\n",
       "    <tr>\n",
       "      <th>1</th>\n",
       "      <td>KeyConsult9164</td>\n",
       "      <td>KeyPatient2469</td>\n",
       "      <td>Name2469</td>\n",
       "      <td>FistName2469</td>\n",
       "      <td>2023-11-30</td>\n",
       "      <td>Pathology28</td>\n",
       "      <td>2023-11-30</td>\n",
       "    </tr>\n",
       "    <tr>\n",
       "      <th>2</th>\n",
       "      <td>KeyConsult9165</td>\n",
       "      <td>KeyPatient20346</td>\n",
       "      <td>Name20346</td>\n",
       "      <td>FistName20346</td>\n",
       "      <td>2023-11-30</td>\n",
       "      <td>Pathology36</td>\n",
       "      <td>2023-11-30</td>\n",
       "    </tr>\n",
       "    <tr>\n",
       "      <th>3</th>\n",
       "      <td>KeyConsult9166</td>\n",
       "      <td>KeyPatient43536</td>\n",
       "      <td>Name43536</td>\n",
       "      <td>FistName43536</td>\n",
       "      <td>2023-11-30</td>\n",
       "      <td>Pathology49</td>\n",
       "      <td>2023-12-01</td>\n",
       "    </tr>\n",
       "    <tr>\n",
       "      <th>4</th>\n",
       "      <td>KeyConsult9167</td>\n",
       "      <td>KeyPatient346</td>\n",
       "      <td>Name346</td>\n",
       "      <td>FistName346</td>\n",
       "      <td>2023-11-30</td>\n",
       "      <td>Pathology39</td>\n",
       "      <td>2023-11-30</td>\n",
       "    </tr>\n",
       "    <tr>\n",
       "      <th>5</th>\n",
       "      <td>KeyConsult9168</td>\n",
       "      <td>KeyPatient48522</td>\n",
       "      <td>Name48522</td>\n",
       "      <td>FistName48522</td>\n",
       "      <td>2023-11-30</td>\n",
       "      <td>Pathology18</td>\n",
       "      <td>2023-12-01</td>\n",
       "    </tr>\n",
       "    <tr>\n",
       "      <th>6</th>\n",
       "      <td>KeyConsult9169</td>\n",
       "      <td>KeyPatient33615</td>\n",
       "      <td>Name33615</td>\n",
       "      <td>FistName33615</td>\n",
       "      <td>2023-11-30</td>\n",
       "      <td>Pathology30</td>\n",
       "      <td>2023-12-01</td>\n",
       "    </tr>\n",
       "    <tr>\n",
       "      <th>7</th>\n",
       "      <td>KeyConsult9170</td>\n",
       "      <td>KeyPatient16913</td>\n",
       "      <td>Name16913</td>\n",
       "      <td>FistName16913</td>\n",
       "      <td>2023-11-30</td>\n",
       "      <td>Pathology53</td>\n",
       "      <td>2023-12-01</td>\n",
       "    </tr>\n",
       "    <tr>\n",
       "      <th>8</th>\n",
       "      <td>KeyConsult9171</td>\n",
       "      <td>KeyPatient30785</td>\n",
       "      <td>Name30785</td>\n",
       "      <td>FistName30785</td>\n",
       "      <td>2023-11-30</td>\n",
       "      <td>Pathology7</td>\n",
       "      <td>2023-12-02</td>\n",
       "    </tr>\n",
       "    <tr>\n",
       "      <th>9</th>\n",
       "      <td>KeyConsult9172</td>\n",
       "      <td>KeyPatient9418</td>\n",
       "      <td>Name9418</td>\n",
       "      <td>FistName9418</td>\n",
       "      <td>2023-11-30</td>\n",
       "      <td>Pathology50</td>\n",
       "      <td>2023-11-30</td>\n",
       "    </tr>\n",
       "  </tbody>\n",
       "</table>\n",
       "</div>"
      ],
      "text/plain": [
       "       KeyConsult       KeyPatient       Name      FirstName    Date_In    Pathology   Date_Out\n",
       "0  KeyConsult9163   KeyPatient5557   Name5557   FistName5557 2023-11-30  Pathology89 2023-12-11\n",
       "1  KeyConsult9164   KeyPatient2469   Name2469   FistName2469 2023-11-30  Pathology28 2023-11-30\n",
       "2  KeyConsult9165  KeyPatient20346  Name20346  FistName20346 2023-11-30  Pathology36 2023-11-30\n",
       "3  KeyConsult9166  KeyPatient43536  Name43536  FistName43536 2023-11-30  Pathology49 2023-12-01\n",
       "4  KeyConsult9167    KeyPatient346    Name346    FistName346 2023-11-30  Pathology39 2023-11-30\n",
       "5  KeyConsult9168  KeyPatient48522  Name48522  FistName48522 2023-11-30  Pathology18 2023-12-01\n",
       "6  KeyConsult9169  KeyPatient33615  Name33615  FistName33615 2023-11-30  Pathology30 2023-12-01\n",
       "7  KeyConsult9170  KeyPatient16913  Name16913  FistName16913 2023-11-30  Pathology53 2023-12-01\n",
       "8  KeyConsult9171  KeyPatient30785  Name30785  FistName30785 2023-11-30   Pathology7 2023-12-02\n",
       "9  KeyConsult9172   KeyPatient9418   Name9418   FistName9418 2023-11-30  Pathology50 2023-11-30"
      ]
     },
     "execution_count": 15,
     "metadata": {},
     "output_type": "execute_result"
    }
   ],
   "source": [
    "psdf = ps.read_csv('foo.csv')\n",
    "psdf.head(10)"
   ]
  },
  {
   "cell_type": "code",
   "execution_count": 5,
   "metadata": {
    "scrolled": false
   },
   "outputs": [
    {
     "data": {
      "text/plain": [
       "KeyConsult            object\n",
       "KeyPatient            object\n",
       "Name                  object\n",
       "FirstName             object\n",
       "Date_In       datetime64[ns]\n",
       "Pathology             object\n",
       "Date_Out      datetime64[ns]\n",
       "dtype: object"
      ]
     },
     "execution_count": 5,
     "metadata": {},
     "output_type": "execute_result"
    }
   ],
   "source": [
    "psdf.dtypes"
   ]
  },
  {
   "cell_type": "markdown",
   "metadata": {},
   "source": [
    "## Exercices :"
   ]
  },
  {
   "cell_type": "markdown",
   "metadata": {},
   "source": [
    "**Question 1.** Proposer un code permettant de visualiser les données triées par date d'entrée dans l'hôpital. On pourra afficher seulement les 20 premières dates."
   ]
  },
  {
   "cell_type": "code",
   "execution_count": 6,
   "metadata": {},
   "outputs": [],
   "source": [
    "# Réponse :\n"
   ]
  },
  {
   "cell_type": "markdown",
   "metadata": {},
   "source": [
    "**Question 2.** Proposer un code permettant de visualiser le nombre d'entrées quotidiennes dans l'hôpital durant l'année 2023. "
   ]
  },
  {
   "cell_type": "code",
   "execution_count": 7,
   "metadata": {},
   "outputs": [],
   "source": [
    "# Réponse :\n"
   ]
  },
  {
   "cell_type": "markdown",
   "metadata": {},
   "source": [
    "**Question 3.** Quel a été le nombre maximal et minimal d'entrées quotidiennes dans l'hôpital durant l'année 2023 ? "
   ]
  },
  {
   "cell_type": "code",
   "execution_count": 8,
   "metadata": {},
   "outputs": [],
   "source": [
    "# Réponse :\n"
   ]
  },
  {
   "cell_type": "markdown",
   "metadata": {},
   "source": [
    "**Question 4.** Proposer un code permettant de visualiser si certains patients sont venus plusieurs fois dans l'hôpital durant l'année 2023 (et si oui combien de fois). "
   ]
  },
  {
   "cell_type": "code",
   "execution_count": 9,
   "metadata": {},
   "outputs": [],
   "source": [
    "# Réponse :\n"
   ]
  },
  {
   "cell_type": "markdown",
   "metadata": {},
   "source": [
    "**Question 5.** Quel a été le nombre maximal et minimal d'entrées par patient dans l'hôpital durant l'année 2023 ? "
   ]
  },
  {
   "cell_type": "code",
   "execution_count": 10,
   "metadata": {},
   "outputs": [],
   "source": [
    "# Réponse :\n"
   ]
  },
  {
   "cell_type": "markdown",
   "metadata": {},
   "source": [
    "**Question 6.** Proposer un code permettant de visualiser quels patients ont été diagnostiqués de la `Pathology15` durant l'année 2023."
   ]
  },
  {
   "cell_type": "code",
   "execution_count": 11,
   "metadata": {},
   "outputs": [],
   "source": [
    "# Réponse :\n"
   ]
  },
  {
   "cell_type": "markdown",
   "metadata": {},
   "source": [
    "**Question 7.** Proposer un code permettant de visualiser quels ont été les 10 premiers patients à être diagnostiqués de la `Pathology15` durant l'année 2023."
   ]
  },
  {
   "cell_type": "code",
   "execution_count": 12,
   "metadata": {},
   "outputs": [],
   "source": [
    "# Réponse :\n"
   ]
  },
  {
   "cell_type": "markdown",
   "metadata": {},
   "source": [
    "**Question 8.** Proposer un code permettant de visualiser s'il existe des patients qui ont été diagnostiqués plusieurs fois de la `Pathology17` durant l'année 2023 (et si oui combien de fois au maximum)."
   ]
  },
  {
   "cell_type": "code",
   "execution_count": 13,
   "metadata": {},
   "outputs": [],
   "source": [
    "# Réponse :\n"
   ]
  },
  {
   "cell_type": "code",
   "execution_count": null,
   "metadata": {},
   "outputs": [],
   "source": []
  },
  {
   "cell_type": "code",
   "execution_count": null,
   "metadata": {},
   "outputs": [],
   "source": []
  },
  {
   "cell_type": "code",
   "execution_count": null,
   "metadata": {},
   "outputs": [],
   "source": []
  },
  {
   "cell_type": "code",
   "execution_count": null,
   "metadata": {},
   "outputs": [],
   "source": []
  }
 ],
 "metadata": {
  "kernelspec": {
   "display_name": "Python 3 (ipykernel)",
   "language": "python",
   "name": "python3"
  },
  "language_info": {
   "codemirror_mode": {
    "name": "ipython",
    "version": 3
   },
   "file_extension": ".py",
   "mimetype": "text/x-python",
   "name": "python",
   "nbconvert_exporter": "python",
   "pygments_lexer": "ipython3",
   "version": "3.11.4"
  }
 },
 "nbformat": 4,
 "nbformat_minor": 1
}
