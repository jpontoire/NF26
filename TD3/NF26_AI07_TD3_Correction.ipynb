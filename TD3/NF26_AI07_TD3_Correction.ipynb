{
 "cells": [
  {
   "cell_type": "markdown",
   "metadata": {},
   "source": [
    "# NF26/AI07 - TD3 : Gestion des valeurs Atypiques/Manquantes (Correction)\n"
   ]
  },
  {
   "cell_type": "code",
   "execution_count": 1,
   "metadata": {},
   "outputs": [],
   "source": [
    "import os\n",
    "os.environ[\"PYARROW_IGNORE_TIMEZONE\"] = \"1\""
   ]
  },
  {
   "cell_type": "markdown",
   "metadata": {},
   "source": [
    "Pour résoudre le problème lié à \"import pyspark.pandas as ps\" :"
   ]
  },
  {
   "cell_type": "markdown",
   "metadata": {},
   "source": [
    "Proposition par Chloe :"
   ]
  },
  {
   "cell_type": "code",
   "execution_count": 2,
   "metadata": {},
   "outputs": [],
   "source": [
    "#!pip install numpy==1.23.5"
   ]
  },
  {
   "cell_type": "code",
   "execution_count": 3,
   "metadata": {},
   "outputs": [],
   "source": [
    "import pandas as pd\n",
    "import numpy as np\n",
    "from datetime import datetime, date\n",
    "\n",
    "import pyspark.pandas as ps\n",
    "from pyspark.sql import SparkSession\n",
    "from pyspark.sql import Row"
   ]
  },
  {
   "cell_type": "markdown",
   "metadata": {},
   "source": [
    "Autre solution proposée par Tidiane :"
   ]
  },
  {
   "cell_type": "code",
   "execution_count": 4,
   "metadata": {},
   "outputs": [],
   "source": [
    "# import pandas as pd\n",
    "# import numpy as np\n",
    "# from datetime import datetime, date\n",
    "# np.NaN = np.nan\n",
    "# np.string_ = np.bytes_\n",
    "# np.float_ = np.float64\n",
    "# np.unicode_ = np.str_\n",
    "\n",
    "# import pyspark.pandas as ps\n",
    "# from pyspark.sql import SparkSession\n",
    "# from pyspark.sql import Row"
   ]
  },
  {
   "cell_type": "code",
   "execution_count": 5,
   "metadata": {},
   "outputs": [
    {
     "name": "stderr",
     "output_type": "stream",
     "text": [
      "Setting default log level to \"WARN\".\n",
      "To adjust logging level use sc.setLogLevel(newLevel). For SparkR, use setLogLevel(newLevel).\n",
      "25/03/18 19:01:44 WARN NativeCodeLoader: Unable to load native-hadoop library for your platform... using builtin-java classes where applicable\n"
     ]
    }
   ],
   "source": [
    "spark = SparkSession.builder.getOrCreate()"
   ]
  },
  {
   "cell_type": "code",
   "execution_count": 6,
   "metadata": {},
   "outputs": [],
   "source": [
    "# Choix du fuseau horaire (Solution trouvée par Thomas F.) :\n",
    "spark.conf.set(\"spark.sql.session.timeZone\", \"CET\")"
   ]
  },
  {
   "cell_type": "markdown",
   "metadata": {},
   "source": [
    "## Introduction\n",
    "\n",
    "L'objectif de ce TD est d'implémenter un ETL visant à gérer les données atypiques ou manquantes afin d'alimenter le modèle Étoile étudié lors du TD2. Pour rappel, les 6 diffrérentes bases de données transactionnelles données sont :\n",
    "- `data_administration`: Ensemble des données administratives liées à chaque consultation.\n",
    "- `data_medecins`: Ensemble des données liées aux informations associées à chaque Médecin.\n",
    "- `data_diagnostics`: Ensemble des données liées aux diagnostic de chaque patient lors de chaque consultation.\n",
    "- `data_treatments`: Ensemble des données liées aux descriptions de chaque traitement.\n",
    "- `data_medicaments`: Ensemble des informations caractérisant chaque Médicament.\n",
    "- `data_chambres`: Ensemble des informations caractérisant chaque Chambre de l'Hôpital.\n",
    "\n",
    "On souhaite notamment pouvoir répondre aux requêtes suivantes : \n",
    "- \"*Quel a été l'âge moyen des patients qui ont eu une certaine Pathology durant une certaine période ?*\".\n",
    "- \"*Quel Médicament a été le plus prescrit (en terme de quantité) pour une certaine Pathology durant une certaine période ?*\".\n",
    "- \"*Combien de chambres ont accueilli des patients diagnostiqués d'une certaine Pathology durant une certaine période ?*\".\n",
    "- \"*Quelle est la proportion de medecins (par spécialité) qui ont dignostiqué une certaine `Pathology` durant une certaine période ?*\".\n"
   ]
  },
  {
   "cell_type": "markdown",
   "metadata": {},
   "source": [
    "## Lecture des données"
   ]
  },
  {
   "cell_type": "markdown",
   "metadata": {},
   "source": [
    "Proposition de Code par Arman S-M afin de charger un dossier facilement sur Google Colab :"
   ]
  },
  {
   "cell_type": "code",
   "execution_count": 7,
   "metadata": {},
   "outputs": [],
   "source": [
    "# Proposition de Code par Arman S-M\n",
    "import zipfile\n",
    "\n",
    "def unzip_data(filename):\n",
    "    #Unzips filename into the current working directory.\n",
    "    #Args:\n",
    "    #filename (str): a filepath to a target zip folder to be unzipped.\n",
    "    zip_ref = zipfile.ZipFile(filename, \"r\")\n",
    "    zip_ref.extractall()\n",
    "    zip_ref.close()\n",
    "\n",
    "# Usage : unzip_data(\"nf26-td2.zip\")"
   ]
  },
  {
   "cell_type": "markdown",
   "metadata": {},
   "source": [
    "**Les cellules ci-dessous permettent de lire les différentes bases de données transactionnelles en format `pyspark.pandas.frame.DataFrame`.**"
   ]
  },
  {
   "cell_type": "code",
   "execution_count": 8,
   "metadata": {},
   "outputs": [
    {
     "name": "stderr",
     "output_type": "stream",
     "text": [
      "                                                                                \r"
     ]
    },
    {
     "data": {
      "text/html": [
       "<div>\n",
       "<style scoped>\n",
       "    .dataframe tbody tr th:only-of-type {\n",
       "        vertical-align: middle;\n",
       "    }\n",
       "\n",
       "    .dataframe tbody tr th {\n",
       "        vertical-align: top;\n",
       "    }\n",
       "\n",
       "    .dataframe thead th {\n",
       "        text-align: right;\n",
       "    }\n",
       "</style>\n",
       "<table border=\"1\" class=\"dataframe\">\n",
       "  <thead>\n",
       "    <tr style=\"text-align: right;\">\n",
       "      <th></th>\n",
       "      <th>KeyPatient</th>\n",
       "      <th>Name</th>\n",
       "      <th>FirstName</th>\n",
       "      <th>NumSecu</th>\n",
       "      <th>Date_In</th>\n",
       "      <th>Pathology</th>\n",
       "      <th>KeyChambre</th>\n",
       "      <th>ChambreNumber</th>\n",
       "      <th>Date_Out</th>\n",
       "    </tr>\n",
       "    <tr>\n",
       "      <th>KeyConsult</th>\n",
       "      <th></th>\n",
       "      <th></th>\n",
       "      <th></th>\n",
       "      <th></th>\n",
       "      <th></th>\n",
       "      <th></th>\n",
       "      <th></th>\n",
       "      <th></th>\n",
       "      <th></th>\n",
       "    </tr>\n",
       "  </thead>\n",
       "  <tbody>\n",
       "    <tr>\n",
       "      <th>KeyConsult45056</th>\n",
       "      <td>KeyPatient38017</td>\n",
       "      <td>Name38017</td>\n",
       "      <td>FistName38017</td>\n",
       "      <td>NS45057</td>\n",
       "      <td>2023-11-23</td>\n",
       "      <td>Pathology27</td>\n",
       "      <td>KeyChambre37</td>\n",
       "      <td>C037</td>\n",
       "      <td>2023-11-24</td>\n",
       "    </tr>\n",
       "    <tr>\n",
       "      <th>KeyConsult45057</th>\n",
       "      <td>KeyPatient75131</td>\n",
       "      <td>Name75131</td>\n",
       "      <td>FistName75131</td>\n",
       "      <td>NS45058</td>\n",
       "      <td>2023-11-23</td>\n",
       "      <td>Pathology57</td>\n",
       "      <td>NULL</td>\n",
       "      <td>NULL</td>\n",
       "      <td>2023-11-23</td>\n",
       "    </tr>\n",
       "    <tr>\n",
       "      <th>KeyConsult45058</th>\n",
       "      <td>KeyPatient27733</td>\n",
       "      <td>Name27733</td>\n",
       "      <td>FistName27733</td>\n",
       "      <td>NS45059</td>\n",
       "      <td>2023-11-23</td>\n",
       "      <td>Pathology60</td>\n",
       "      <td>KeyChambre5</td>\n",
       "      <td>C005</td>\n",
       "      <td>2023-11-24</td>\n",
       "    </tr>\n",
       "    <tr>\n",
       "      <th>KeyConsult45059</th>\n",
       "      <td>KeyPatient76784</td>\n",
       "      <td>Name76784</td>\n",
       "      <td>FistName76784</td>\n",
       "      <td>NS45060</td>\n",
       "      <td>2023-11-23</td>\n",
       "      <td>Pathology30</td>\n",
       "      <td>KeyChambre43</td>\n",
       "      <td>C043</td>\n",
       "      <td>2023-11-25</td>\n",
       "    </tr>\n",
       "    <tr>\n",
       "      <th>KeyConsult45060</th>\n",
       "      <td>KeyPatient10645</td>\n",
       "      <td>Name10645</td>\n",
       "      <td>FistName10645</td>\n",
       "      <td>NS45061</td>\n",
       "      <td>2023-11-23</td>\n",
       "      <td>Pathology99</td>\n",
       "      <td>KeyChambre43</td>\n",
       "      <td>C043</td>\n",
       "      <td>2023-12-07</td>\n",
       "    </tr>\n",
       "  </tbody>\n",
       "</table>\n",
       "</div>"
      ],
      "text/plain": [
       "                      KeyPatient       Name      FirstName  NumSecu    Date_In    Pathology    KeyChambre ChambreNumber   Date_Out\n",
       "KeyConsult                                                                                                                        \n",
       "KeyConsult45056  KeyPatient38017  Name38017  FistName38017  NS45057 2023-11-23  Pathology27  KeyChambre37          C037 2023-11-24\n",
       "KeyConsult45057  KeyPatient75131  Name75131  FistName75131  NS45058 2023-11-23  Pathology57          NULL          NULL 2023-11-23\n",
       "KeyConsult45058  KeyPatient27733  Name27733  FistName27733  NS45059 2023-11-23  Pathology60   KeyChambre5          C005 2023-11-24\n",
       "KeyConsult45059  KeyPatient76784  Name76784  FistName76784  NS45060 2023-11-23  Pathology30  KeyChambre43          C043 2023-11-25\n",
       "KeyConsult45060  KeyPatient10645  Name10645  FistName10645  NS45061 2023-11-23  Pathology99  KeyChambre43          C043 2023-12-07"
      ]
     },
     "execution_count": 8,
     "metadata": {},
     "output_type": "execute_result"
    }
   ],
   "source": [
    "psdf_administration = ps.read_csv('data_administration.csv', index_col='KeyConsult')\n",
    "psdf_administration.head(5)"
   ]
  },
  {
   "cell_type": "code",
   "execution_count": 9,
   "metadata": {},
   "outputs": [
    {
     "data": {
      "text/html": [
       "<div>\n",
       "<style scoped>\n",
       "    .dataframe tbody tr th:only-of-type {\n",
       "        vertical-align: middle;\n",
       "    }\n",
       "\n",
       "    .dataframe tbody tr th {\n",
       "        vertical-align: top;\n",
       "    }\n",
       "\n",
       "    .dataframe thead th {\n",
       "        text-align: right;\n",
       "    }\n",
       "</style>\n",
       "<table border=\"1\" class=\"dataframe\">\n",
       "  <thead>\n",
       "    <tr style=\"text-align: right;\">\n",
       "      <th></th>\n",
       "      <th>NameMedecin</th>\n",
       "      <th>FirstNameMedecin</th>\n",
       "      <th>SpecialityMedecin</th>\n",
       "    </tr>\n",
       "    <tr>\n",
       "      <th>KeyMedecin</th>\n",
       "      <th></th>\n",
       "      <th></th>\n",
       "      <th></th>\n",
       "    </tr>\n",
       "  </thead>\n",
       "  <tbody>\n",
       "    <tr>\n",
       "      <th>keyMedecin16</th>\n",
       "      <td>NameMedecin16</td>\n",
       "      <td>FirstNameMedecin16</td>\n",
       "      <td>Generaliste</td>\n",
       "    </tr>\n",
       "    <tr>\n",
       "      <th>keyMedecin17</th>\n",
       "      <td>NameMedecin17</td>\n",
       "      <td>FirstNameMedecin17</td>\n",
       "      <td>Generaliste</td>\n",
       "    </tr>\n",
       "    <tr>\n",
       "      <th>keyMedecin18</th>\n",
       "      <td>NameMedecin18</td>\n",
       "      <td>FirstNameMedecin18</td>\n",
       "      <td>Generaliste</td>\n",
       "    </tr>\n",
       "    <tr>\n",
       "      <th>keyMedecin19</th>\n",
       "      <td>NameMedecin19</td>\n",
       "      <td>FirstNameMedecin19</td>\n",
       "      <td>Chirurgien</td>\n",
       "    </tr>\n",
       "    <tr>\n",
       "      <th>keyMedecin6</th>\n",
       "      <td>NameMedecin6</td>\n",
       "      <td>FirstNameMedecin6</td>\n",
       "      <td>Dermatologiste</td>\n",
       "    </tr>\n",
       "  </tbody>\n",
       "</table>\n",
       "</div>"
      ],
      "text/plain": [
       "                NameMedecin    FirstNameMedecin SpecialityMedecin\n",
       "KeyMedecin                                                       \n",
       "keyMedecin16  NameMedecin16  FirstNameMedecin16       Generaliste\n",
       "keyMedecin17  NameMedecin17  FirstNameMedecin17       Generaliste\n",
       "keyMedecin18  NameMedecin18  FirstNameMedecin18       Generaliste\n",
       "keyMedecin19  NameMedecin19  FirstNameMedecin19        Chirurgien\n",
       "keyMedecin6    NameMedecin6   FirstNameMedecin6    Dermatologiste"
      ]
     },
     "execution_count": 9,
     "metadata": {},
     "output_type": "execute_result"
    }
   ],
   "source": [
    "psdf_medecins = ps.read_csv('data_medecins.csv', index_col='KeyMedecin')\n",
    "psdf_medecins.head(5)"
   ]
  },
  {
   "cell_type": "code",
   "execution_count": 10,
   "metadata": {},
   "outputs": [
    {
     "name": "stderr",
     "output_type": "stream",
     "text": [
      "                                                                                \r"
     ]
    },
    {
     "data": {
      "text/html": [
       "<div>\n",
       "<style scoped>\n",
       "    .dataframe tbody tr th:only-of-type {\n",
       "        vertical-align: middle;\n",
       "    }\n",
       "\n",
       "    .dataframe tbody tr th {\n",
       "        vertical-align: top;\n",
       "    }\n",
       "\n",
       "    .dataframe thead th {\n",
       "        text-align: right;\n",
       "    }\n",
       "</style>\n",
       "<table border=\"1\" class=\"dataframe\">\n",
       "  <thead>\n",
       "    <tr style=\"text-align: right;\">\n",
       "      <th></th>\n",
       "      <th>KeyMedecin</th>\n",
       "      <th>KeyPatient</th>\n",
       "      <th>NamePatient</th>\n",
       "      <th>FirstNamePatient</th>\n",
       "      <th>NumSecu</th>\n",
       "      <th>Age</th>\n",
       "      <th>Weight</th>\n",
       "      <th>Temperature</th>\n",
       "      <th>Tension</th>\n",
       "      <th>Diabete</th>\n",
       "      <th>Pathology</th>\n",
       "      <th>KeyTreatment</th>\n",
       "    </tr>\n",
       "    <tr>\n",
       "      <th>KeyConsult</th>\n",
       "      <th></th>\n",
       "      <th></th>\n",
       "      <th></th>\n",
       "      <th></th>\n",
       "      <th></th>\n",
       "      <th></th>\n",
       "      <th></th>\n",
       "      <th></th>\n",
       "      <th></th>\n",
       "      <th></th>\n",
       "      <th></th>\n",
       "      <th></th>\n",
       "    </tr>\n",
       "  </thead>\n",
       "  <tbody>\n",
       "    <tr>\n",
       "      <th>KeyConsult45056</th>\n",
       "      <td>keyMedecin5</td>\n",
       "      <td>KeyPatient38017</td>\n",
       "      <td>Name38017</td>\n",
       "      <td>FistName38017</td>\n",
       "      <td>NS45057</td>\n",
       "      <td>20.0</td>\n",
       "      <td>59.793081</td>\n",
       "      <td>37.569814</td>\n",
       "      <td>79.768608</td>\n",
       "      <td>0</td>\n",
       "      <td>Pathology27</td>\n",
       "      <td>KeyTreatment45056</td>\n",
       "    </tr>\n",
       "    <tr>\n",
       "      <th>KeyConsult45057</th>\n",
       "      <td>keyMedecin23</td>\n",
       "      <td>KeyPatient75131</td>\n",
       "      <td>Name75131</td>\n",
       "      <td>FistName75131</td>\n",
       "      <td>NS45058</td>\n",
       "      <td>15.0</td>\n",
       "      <td>61.467987</td>\n",
       "      <td>37.565551</td>\n",
       "      <td>164.781518</td>\n",
       "      <td>0</td>\n",
       "      <td>Pathology57</td>\n",
       "      <td>KeyTreatment45057</td>\n",
       "    </tr>\n",
       "    <tr>\n",
       "      <th>KeyConsult45058</th>\n",
       "      <td>keyMedecin10</td>\n",
       "      <td>KeyPatient27733</td>\n",
       "      <td>Name27733</td>\n",
       "      <td>FistName27733</td>\n",
       "      <td>NS45059</td>\n",
       "      <td>18.0</td>\n",
       "      <td>59.421285</td>\n",
       "      <td>37.481894</td>\n",
       "      <td>124.363853</td>\n",
       "      <td>0</td>\n",
       "      <td>Pathology60</td>\n",
       "      <td>KeyTreatment45058</td>\n",
       "    </tr>\n",
       "    <tr>\n",
       "      <th>KeyConsult45059</th>\n",
       "      <td>keyMedecin15</td>\n",
       "      <td>KeyPatient76784</td>\n",
       "      <td>Name76784</td>\n",
       "      <td>FistName76784</td>\n",
       "      <td>NS45060</td>\n",
       "      <td>20.0</td>\n",
       "      <td>57.974723</td>\n",
       "      <td>37.537167</td>\n",
       "      <td>98.881029</td>\n",
       "      <td>0</td>\n",
       "      <td>Pathology30</td>\n",
       "      <td>KeyTreatment45059</td>\n",
       "    </tr>\n",
       "    <tr>\n",
       "      <th>KeyConsult45060</th>\n",
       "      <td>keyMedecin29</td>\n",
       "      <td>KeyPatient10645</td>\n",
       "      <td>Name10645</td>\n",
       "      <td>FistName10645</td>\n",
       "      <td>NS45061</td>\n",
       "      <td>42.0</td>\n",
       "      <td>71.273588</td>\n",
       "      <td>40.379072</td>\n",
       "      <td>80.799002</td>\n",
       "      <td>1</td>\n",
       "      <td>Pathology99</td>\n",
       "      <td>KeyTreatment45060</td>\n",
       "    </tr>\n",
       "  </tbody>\n",
       "</table>\n",
       "</div>"
      ],
      "text/plain": [
       "                   KeyMedecin       KeyPatient NamePatient FirstNamePatient  NumSecu   Age     Weight  Temperature     Tension  Diabete    Pathology       KeyTreatment\n",
       "KeyConsult                                                                                                                                                             \n",
       "KeyConsult45056   keyMedecin5  KeyPatient38017   Name38017    FistName38017  NS45057  20.0  59.793081    37.569814   79.768608        0  Pathology27  KeyTreatment45056\n",
       "KeyConsult45057  keyMedecin23  KeyPatient75131   Name75131    FistName75131  NS45058  15.0  61.467987    37.565551  164.781518        0  Pathology57  KeyTreatment45057\n",
       "KeyConsult45058  keyMedecin10  KeyPatient27733   Name27733    FistName27733  NS45059  18.0  59.421285    37.481894  124.363853        0  Pathology60  KeyTreatment45058\n",
       "KeyConsult45059  keyMedecin15  KeyPatient76784   Name76784    FistName76784  NS45060  20.0  57.974723    37.537167   98.881029        0  Pathology30  KeyTreatment45059\n",
       "KeyConsult45060  keyMedecin29  KeyPatient10645   Name10645    FistName10645  NS45061  42.0  71.273588    40.379072   80.799002        1  Pathology99  KeyTreatment45060"
      ]
     },
     "execution_count": 10,
     "metadata": {},
     "output_type": "execute_result"
    }
   ],
   "source": [
    "psdf_diagnostics = ps.read_csv('data_diagnostics.csv', index_col='KeyConsult')\n",
    "psdf_diagnostics.head(5)"
   ]
  },
  {
   "cell_type": "code",
   "execution_count": 11,
   "metadata": {},
   "outputs": [
    {
     "data": {
      "text/html": [
       "<div>\n",
       "<style scoped>\n",
       "    .dataframe tbody tr th:only-of-type {\n",
       "        vertical-align: middle;\n",
       "    }\n",
       "\n",
       "    .dataframe tbody tr th {\n",
       "        vertical-align: top;\n",
       "    }\n",
       "\n",
       "    .dataframe thead th {\n",
       "        text-align: right;\n",
       "    }\n",
       "</style>\n",
       "<table border=\"1\" class=\"dataframe\">\n",
       "  <thead>\n",
       "    <tr style=\"text-align: right;\">\n",
       "      <th></th>\n",
       "      <th>KeyMedicament</th>\n",
       "      <th>QuantityMedicament</th>\n",
       "    </tr>\n",
       "    <tr>\n",
       "      <th>KeyTreatment</th>\n",
       "      <th></th>\n",
       "      <th></th>\n",
       "    </tr>\n",
       "  </thead>\n",
       "  <tbody>\n",
       "    <tr>\n",
       "      <th>KeyTreatment20428</th>\n",
       "      <td>KeyMed2</td>\n",
       "      <td>2</td>\n",
       "    </tr>\n",
       "    <tr>\n",
       "      <th>KeyTreatment20429</th>\n",
       "      <td>KeyMed449</td>\n",
       "      <td>2</td>\n",
       "    </tr>\n",
       "    <tr>\n",
       "      <th>KeyTreatment20429</th>\n",
       "      <td>KeyMed321</td>\n",
       "      <td>3</td>\n",
       "    </tr>\n",
       "    <tr>\n",
       "      <th>KeyTreatment20429</th>\n",
       "      <td>KeyMed361</td>\n",
       "      <td>3</td>\n",
       "    </tr>\n",
       "    <tr>\n",
       "      <th>KeyTreatment20430</th>\n",
       "      <td>KeyMed505</td>\n",
       "      <td>1</td>\n",
       "    </tr>\n",
       "  </tbody>\n",
       "</table>\n",
       "</div>"
      ],
      "text/plain": [
       "                  KeyMedicament  QuantityMedicament\n",
       "KeyTreatment                                       \n",
       "KeyTreatment20428       KeyMed2                   2\n",
       "KeyTreatment20429     KeyMed449                   2\n",
       "KeyTreatment20429     KeyMed321                   3\n",
       "KeyTreatment20429     KeyMed361                   3\n",
       "KeyTreatment20430     KeyMed505                   1"
      ]
     },
     "execution_count": 11,
     "metadata": {},
     "output_type": "execute_result"
    }
   ],
   "source": [
    "psdf_treatments = ps.read_csv('data_treatments.csv', index_col='KeyTreatment')\n",
    "psdf_treatments.head(5)"
   ]
  },
  {
   "cell_type": "code",
   "execution_count": 12,
   "metadata": {},
   "outputs": [
    {
     "data": {
      "text/html": [
       "<div>\n",
       "<style scoped>\n",
       "    .dataframe tbody tr th:only-of-type {\n",
       "        vertical-align: middle;\n",
       "    }\n",
       "\n",
       "    .dataframe tbody tr th {\n",
       "        vertical-align: top;\n",
       "    }\n",
       "\n",
       "    .dataframe thead th {\n",
       "        text-align: right;\n",
       "    }\n",
       "</style>\n",
       "<table border=\"1\" class=\"dataframe\">\n",
       "  <thead>\n",
       "    <tr style=\"text-align: right;\">\n",
       "      <th></th>\n",
       "      <th>NameMedicament</th>\n",
       "    </tr>\n",
       "    <tr>\n",
       "      <th>KeyMedicament</th>\n",
       "      <th></th>\n",
       "    </tr>\n",
       "  </thead>\n",
       "  <tbody>\n",
       "    <tr>\n",
       "      <th>KeyMed913</th>\n",
       "      <td>Medicament913</td>\n",
       "    </tr>\n",
       "    <tr>\n",
       "      <th>KeyMed914</th>\n",
       "      <td>Medicament914</td>\n",
       "    </tr>\n",
       "    <tr>\n",
       "      <th>KeyMed915</th>\n",
       "      <td>Medicament915</td>\n",
       "    </tr>\n",
       "    <tr>\n",
       "      <th>KeyMed916</th>\n",
       "      <td>Medicament916</td>\n",
       "    </tr>\n",
       "    <tr>\n",
       "      <th>KeyMed917</th>\n",
       "      <td>Medicament917</td>\n",
       "    </tr>\n",
       "  </tbody>\n",
       "</table>\n",
       "</div>"
      ],
      "text/plain": [
       "              NameMedicament\n",
       "KeyMedicament               \n",
       "KeyMed913      Medicament913\n",
       "KeyMed914      Medicament914\n",
       "KeyMed915      Medicament915\n",
       "KeyMed916      Medicament916\n",
       "KeyMed917      Medicament917"
      ]
     },
     "execution_count": 12,
     "metadata": {},
     "output_type": "execute_result"
    }
   ],
   "source": [
    "psdf_medicaments = ps.read_csv('data_medicaments.csv', index_col='KeyMedicament')\n",
    "psdf_medicaments.head(5)"
   ]
  },
  {
   "cell_type": "code",
   "execution_count": 13,
   "metadata": {},
   "outputs": [
    {
     "data": {
      "text/html": [
       "<div>\n",
       "<style scoped>\n",
       "    .dataframe tbody tr th:only-of-type {\n",
       "        vertical-align: middle;\n",
       "    }\n",
       "\n",
       "    .dataframe tbody tr th {\n",
       "        vertical-align: top;\n",
       "    }\n",
       "\n",
       "    .dataframe thead th {\n",
       "        text-align: right;\n",
       "    }\n",
       "</style>\n",
       "<table border=\"1\" class=\"dataframe\">\n",
       "  <thead>\n",
       "    <tr style=\"text-align: right;\">\n",
       "      <th></th>\n",
       "      <th>ChambreNumber</th>\n",
       "    </tr>\n",
       "    <tr>\n",
       "      <th>KeyChambre</th>\n",
       "      <th></th>\n",
       "    </tr>\n",
       "  </thead>\n",
       "  <tbody>\n",
       "    <tr>\n",
       "      <th>KeyChambre89</th>\n",
       "      <td>C089</td>\n",
       "    </tr>\n",
       "    <tr>\n",
       "      <th>KeyChambre90</th>\n",
       "      <td>C090</td>\n",
       "    </tr>\n",
       "    <tr>\n",
       "      <th>KeyChambre91</th>\n",
       "      <td>C091</td>\n",
       "    </tr>\n",
       "    <tr>\n",
       "      <th>KeyChambre92</th>\n",
       "      <td>C092</td>\n",
       "    </tr>\n",
       "    <tr>\n",
       "      <th>KeyChambre93</th>\n",
       "      <td>C093</td>\n",
       "    </tr>\n",
       "  </tbody>\n",
       "</table>\n",
       "</div>"
      ],
      "text/plain": [
       "             ChambreNumber\n",
       "KeyChambre                \n",
       "KeyChambre89          C089\n",
       "KeyChambre90          C090\n",
       "KeyChambre91          C091\n",
       "KeyChambre92          C092\n",
       "KeyChambre93          C093"
      ]
     },
     "execution_count": 13,
     "metadata": {},
     "output_type": "execute_result"
    }
   ],
   "source": [
    "psdf_chambres = ps.read_csv('data_chambres.csv', index_col='KeyChambre')\n",
    "psdf_chambres.head(5)"
   ]
  },
  {
   "cell_type": "markdown",
   "metadata": {},
   "source": [
    "Afin de pouvoir réaliser notre objectif, nous pourrons convertir ces données en format `pyspark.sql.dataframe.DataFrame`."
   ]
  },
  {
   "cell_type": "code",
   "execution_count": 14,
   "metadata": {},
   "outputs": [],
   "source": [
    "sdf_administration = psdf_administration.to_spark(index_col='KeyConsult')\n",
    "sdf_medecins = psdf_medecins.to_spark(index_col='KeyMedecin')\n",
    "sdf_diagnostics = psdf_diagnostics.to_spark(index_col='KeyConsult')\n",
    "sdf_treatments = psdf_treatments.to_spark(index_col='KeyTreatment')\n",
    "sdf_medicaments = psdf_medicaments.to_spark(index_col='KeyMedicament')\n",
    "sdf_chambres = psdf_chambres.to_spark(index_col='KeyChambre')"
   ]
  },
  {
   "cell_type": "code",
   "execution_count": 15,
   "metadata": {},
   "outputs": [],
   "source": [
    "from pyspark.sql.functions import *"
   ]
  },
  {
   "cell_type": "markdown",
   "metadata": {},
   "source": [
    "## Exercices\n",
    "\n",
    "On souhaite créer un modèle en étoile permettant de procéder facilement les requêtes suivantes : \n",
    "- \"*Quel a été l'âge moyen des patients qui ont eu une certaine Pathology durant une certaine période ?*\".\n",
    "- \"*Quel Médicament a été le plus prescrit (en terme de quantité) pour une certaine Pathology durant une certaine période ?*\".\n",
    "- \"*Combien de chambres ont des patients diagnostiqués d'une certaine Pathology durant une certaine période ?*\".\n",
    "- \"*Quelle est la proportion de medecins (par spécialité) qui ont dignostiqué une certaine Pathology durant une certaine période ?*\".\n",
    "\n",
    "Pour essayer de répondre à toutes ces questions, nous allons considérer le modèle étoile étudié lors du précédent TD.\n",
    "\n",
    "![title](Schemas_Etoile_TD_new.pdf)"
   ]
  },
  {
   "cell_type": "markdown",
   "metadata": {},
   "source": [
    "**Question 1.** Reprendre les algorithmes du TD2 pour construire le modèle Étoile ci-dessus."
   ]
  },
  {
   "cell_type": "code",
   "execution_count": 16,
   "metadata": {},
   "outputs": [],
   "source": [
    "# Tables de Faits :\n",
    "sdf_FAITS_1 = sdf_diagnostics.select('KeyConsult','KeyPatient','KeyMedecin','KeyTreatment').alias('sdf_FAITS_1')\n",
    "sdf_FAITS_2 = sdf_FAITS_1.withColumn('KeyDate', sdf_FAITS_1.KeyConsult)\n",
    "sdf_FAITS_consults = sdf_FAITS_2.join(sdf_administration, 'KeyConsult').select(sdf_FAITS_2[\"*\"],sdf_administration.KeyChambre)\n",
    "\n",
    "# Tables de dimension associée aux Patients :\n",
    "sdf_dim_patients = sdf_diagnostics.select('KeyPatient','KeyConsult','NamePatient','FirstNamePatient','NumSecu','Age','Weight','Temperature','Tension','Diabete','Pathology').alias('sdf_dim_patients')\n",
    "\n",
    "# Tables de dimension associée aux Dates :\n",
    "sdf_dim_date1 = sdf_FAITS_consults.select('KeyDate').alias('sdf_dim_date1')\n",
    "sdf_adm = sdf_administration.select('KeyConsult','Date_In','Date_Out').alias('sdf_adm')\n",
    "sdf_dim_dates = sdf_dim_date1.alias('sdf_dim_date1').join(sdf_adm.alias('sdf_adm'), sdf_dim_date1.KeyDate==sdf_adm.KeyConsult).drop('KeyConsult')\n",
    "\n",
    "# Tables de dimension associée aux Medecins :\n",
    "sdf_dim_medecins = sdf_medecins.select('*')\n",
    "\n",
    "# Tables de dimension associée aux Traitements :\n",
    "sdf_dim_traitement1 = sdf_treatments.alias('sdf_dim_traitements')\n",
    "sdf_dim_traitements = sdf_dim_traitement1.join(sdf_medicaments, sdf_dim_traitement1.KeyMedicament==sdf_medicaments.KeyMedicament).select(sdf_dim_traitement1[\"*\"],sdf_medicaments[\"NameMedicament\"])\n",
    "\n",
    "# Tables de dimension associée aux Chambres :\n",
    "sdf_dim_chambres = sdf_chambres.select('*')\n"
   ]
  },
  {
   "cell_type": "markdown",
   "metadata": {},
   "source": [
    "**Question 2.** Calculer l'âge moyen des patients :\n",
    "- Pour la `Pathology95` durant le mois de mars 2023 : avg(Age) = ?\n",
    "- Pour la `Pathology18` durant le mois de mars 2023 : avg(Age) = ?\n",
    "- Pour la `Pathology76` durant le mois de juillet 2023 : avg(Age) = ?"
   ]
  },
  {
   "cell_type": "code",
   "execution_count": 17,
   "metadata": {},
   "outputs": [
    {
     "name": "stdout",
     "output_type": "stream",
     "text": [
      "Pathology95 :\n"
     ]
    },
    {
     "name": "stderr",
     "output_type": "stream",
     "text": [
      "                                                                                \r"
     ]
    },
    {
     "name": "stdout",
     "output_type": "stream",
     "text": [
      "+-----------------+\n",
      "|         avg(Age)|\n",
      "+-----------------+\n",
      "|156.7948717948718|\n",
      "+-----------------+\n",
      "\n",
      "Pathology18 :\n"
     ]
    },
    {
     "name": "stderr",
     "output_type": "stream",
     "text": [
      "                                                                                \r"
     ]
    },
    {
     "name": "stdout",
     "output_type": "stream",
     "text": [
      "+--------+\n",
      "|avg(Age)|\n",
      "+--------+\n",
      "|Infinity|\n",
      "+--------+\n",
      "\n",
      "Pathology76 :\n",
      "+--------+\n",
      "|avg(Age)|\n",
      "+--------+\n",
      "|Infinity|\n",
      "+--------+\n",
      "\n"
     ]
    }
   ],
   "source": [
    "PathologyQuest = \"Pathology95\"\n",
    "YearQuest = 2023\n",
    "MonthQuest = 3\n",
    "\n",
    "df_DatesQuest = sdf_dim_dates.filter((year(\"Date_in\")==YearQuest) & (month(\"Date_in\")==MonthQuest)).select(col(\"KeyDate\"))\n",
    "df_PathologyQuest = sdf_dim_patients.filter(col(\"Pathology\")==PathologyQuest)\n",
    "\n",
    "FactDatesQuest = sdf_FAITS_consults.alias(\"t1\").join(df_DatesQuest.alias(\"t2\"),'KeyDate').select(sdf_FAITS_consults[\"*\"])\n",
    "PatientsObjectifQuest = df_PathologyQuest.alias(\"s1\").join(FactDatesQuest.alias(\"s2\"),'KeyConsult').select(df_PathologyQuest[\"*\"])\n",
    "print(\"Pathology95 :\")\n",
    "PatientsObjectifQuest.select(avg(col(\"Age\"))).show()\n",
    "\n",
    "\n",
    "############################################################################\n",
    "\n",
    "PathologyQuest = \"Pathology18\"\n",
    "YearQuest = 2023\n",
    "MonthQuest = 3\n",
    "\n",
    "df_DatesQuest = sdf_dim_dates.filter((year(\"Date_in\")==YearQuest) & (month(\"Date_in\")==MonthQuest)).select(col(\"KeyDate\"))\n",
    "df_PathologyQuest = sdf_dim_patients.filter(col(\"Pathology\")==PathologyQuest)\n",
    "\n",
    "FactDatesQuest = sdf_FAITS_consults.alias(\"t1\").join(df_DatesQuest.alias(\"t2\"),'KeyDate').select(sdf_FAITS_consults[\"*\"])\n",
    "PatientsObjectifQuest = df_PathologyQuest.alias(\"s1\").join(FactDatesQuest.alias(\"s2\"),'KeyConsult').select(df_PathologyQuest[\"*\"])\n",
    "print(\"Pathology18 :\")\n",
    "PatientsObjectifQuest.select(avg(col(\"Age\"))).show()\n",
    "\n",
    "############################################################################\n",
    "\n",
    "PathologyQuest = \"Pathology76\"\n",
    "YearQuest = 2023\n",
    "MonthQuest = 7\n",
    "\n",
    "df_DatesQuest = sdf_dim_dates.filter((year(\"Date_in\")==YearQuest) & (month(\"Date_in\")==MonthQuest)).select(col(\"KeyDate\"))\n",
    "df_PathologyQuest = sdf_dim_patients.filter(col(\"Pathology\")==PathologyQuest)\n",
    "\n",
    "FactDatesQuest = sdf_FAITS_consults.alias(\"t1\").join(df_DatesQuest.alias(\"t2\"),'KeyDate').select(sdf_FAITS_consults[\"*\"])\n",
    "PatientsObjectifQuest = df_PathologyQuest.alias(\"s1\").join(FactDatesQuest.alias(\"s2\"),'KeyConsult').select(df_PathologyQuest[\"*\"])\n",
    "print(\"Pathology76 :\")\n",
    "PatientsObjectifQuest.select(avg(col(\"Age\"))).show()"
   ]
  },
  {
   "cell_type": "markdown",
   "metadata": {},
   "source": [
    "## Problématique :\n",
    "Il semblerait qu'il y ait des erreurs au niveau de la variable `Âge`. Certaines données ont été non-répertoriées dans la base de données `diagnostic` et ont été remplacées par la valeur `Inf`. D'autres données sont anormalement elevées et apportent un biais très important. \n",
    "\n",
    "**Objectifs :** Notre objectif sera de construire un ETL qui permette d'être robuste face à ces problèmes au niveau de la variable `Âge`. Nous allons pour cela faire un travail de pré-traitement de données par approche supervisée.\n",
    "- Pour la suite, nous considèrerons qu'un âge est anormalement élevé s'il est superieur à 150 ans. En cas d'âge superieur à 150 ans, nous considèreons cette valeur comme atypique et nous devrons alors remplacer cette valeur par une valeur cohérentes.\n",
    "- Pour la suite, Nous remplacerons les valeurs `Inf` par une estimation cohérente de l'âge en fonction des autres variables.\n",
    "\n",
    "Comme nous l'avons vu en CM, cette phase de nettoyage de données doit se faire à partir des données source et juste avant le transfert dans le Data Warehouse, c'est à dire au cours de l'ETL."
   ]
  },
  {
   "cell_type": "markdown",
   "metadata": {},
   "source": [
    "## Questions :"
   ]
  },
  {
   "cell_type": "markdown",
   "metadata": {},
   "source": [
    "**Question 3.** Construire un DataFrame contenant l'ensemble des observations 'non-problématiques' dans la base de données source `psdf_diagnostics`. Nous appellerons ce DataFrame  `psdf_diagnostics_clean`."
   ]
  },
  {
   "cell_type": "code",
   "execution_count": 18,
   "metadata": {},
   "outputs": [
    {
     "name": "stdout",
     "output_type": "stream",
     "text": [
      "+---------------+------------+---------------+-----------+----------------+-------+----+------------------+------------------+------------------+-------+-----------+-----------------+\n",
      "|     KeyConsult|  KeyMedecin|     KeyPatient|NamePatient|FirstNamePatient|NumSecu| Age|            Weight|       Temperature|           Tension|Diabete|  Pathology|     KeyTreatment|\n",
      "+---------------+------------+---------------+-----------+----------------+-------+----+------------------+------------------+------------------+-------+-----------+-----------------+\n",
      "|KeyConsult45056| keyMedecin5|KeyPatient38017|  Name38017|   FistName38017|NS45057|20.0| 59.79308073160008| 37.56981386307886| 79.76860765451696|      0|Pathology27|KeyTreatment45056|\n",
      "|KeyConsult45057|keyMedecin23|KeyPatient75131|  Name75131|   FistName75131|NS45058|15.0|61.467987016139254|37.565550636587425|164.78151824294875|      0|Pathology57|KeyTreatment45057|\n",
      "|KeyConsult45058|keyMedecin10|KeyPatient27733|  Name27733|   FistName27733|NS45059|18.0| 59.42128540609189|37.481894185240726|124.36385295193881|      0|Pathology60|KeyTreatment45058|\n",
      "|KeyConsult45059|keyMedecin15|KeyPatient76784|  Name76784|   FistName76784|NS45060|20.0| 57.97472255974268| 37.53716746887494| 98.88102903030334|      0|Pathology30|KeyTreatment45059|\n",
      "|KeyConsult45060|keyMedecin29|KeyPatient10645|  Name10645|   FistName10645|NS45061|42.0| 71.27358753191324|  40.3790717818479| 80.79900207017037|      1|Pathology99|KeyTreatment45060|\n",
      "+---------------+------------+---------------+-----------+----------------+-------+----+------------------+------------------+------------------+-------+-----------+-----------------+\n",
      "only showing top 5 rows\n",
      "\n"
     ]
    }
   ],
   "source": [
    "sdf_diagnostics_clean = sdf_diagnostics.where(sdf_diagnostics.Age != 'Inf').where(sdf_diagnostics.Age<150)\n",
    "sdf_diagnostics_clean.show(5)\n"
   ]
  },
  {
   "cell_type": "markdown",
   "metadata": {},
   "source": [
    "**Question 4.** À partir du DataFrame `sdf_diagnostics_clean`, calibrer un modèle d'estimation de l'âge par qui permettra de remplacer les valeurs d'âge atypiques ou manquantes par la moyenne des âges issus du DataFrame `sdf_diagnostics_clean`."
   ]
  },
  {
   "cell_type": "code",
   "execution_count": 19,
   "metadata": {},
   "outputs": [],
   "source": [
    "def function_estim_age_mean(sdf_diagnostics_clean):\n",
    "    pd_diagnistic_clean = sdf_diagnostics_clean.toPandas()\n",
    "    estim_age_mean = np.mean(pd_diagnistic_clean['Age'])\n",
    "    return estim_age_mean"
   ]
  },
  {
   "cell_type": "code",
   "execution_count": 20,
   "metadata": {},
   "outputs": [
    {
     "data": {
      "text/plain": [
       "31.96982776007422"
      ]
     },
     "execution_count": 20,
     "metadata": {},
     "output_type": "execute_result"
    }
   ],
   "source": [
    "estim_age_mean = function_estim_age_mean(sdf_diagnostics_clean)\n",
    "estim_age_mean"
   ]
  },
  {
   "cell_type": "markdown",
   "metadata": {},
   "source": [
    "**Question 5.** Construire une fonction qui permette de remplacer les valeurs d'âge atypiques ou manquantes d'un DataFrame source par la moyenne des âges calculée à partir de la fonction `function_estim_age_mean(psdf_diagnostics_clean)`. Nous appelerons cette nouvelle fonction `function_ETL_age_mean(psdf_diagnostics)`. Cette nouvelle fonction ressortira un nouveau DataFrame contenant l'ensemble des valeurs (celle cohérentes et celles incohérentes estimées et remplacées). Nous appelerons ce nouveau DataFrame `psdf_diagnostics_estim_mean`."
   ]
  },
  {
   "cell_type": "code",
   "execution_count": 21,
   "metadata": {},
   "outputs": [],
   "source": [
    "def function_ETL_age_mean(sdf_diagnostics, estim_age_mean):\n",
    "    \n",
    "    sdf_diagnostics_estim_mean = sdf_diagnostics.withColumn('Age', when(sdf_diagnostics['Age']>150, estim_age_mean).otherwise(sdf_diagnostics['Age']))\n",
    "        \n",
    "    return sdf_diagnostics_estim_mean\n"
   ]
  },
  {
   "cell_type": "code",
   "execution_count": 22,
   "metadata": {},
   "outputs": [
    {
     "name": "stdout",
     "output_type": "stream",
     "text": [
      "+---------------+------------+---------------+-----------+----------------+-------+----+------------------+------------------+------------------+-------+-----------+-----------------+\n",
      "|     KeyConsult|  KeyMedecin|     KeyPatient|NamePatient|FirstNamePatient|NumSecu| Age|            Weight|       Temperature|           Tension|Diabete|  Pathology|     KeyTreatment|\n",
      "+---------------+------------+---------------+-----------+----------------+-------+----+------------------+------------------+------------------+-------+-----------+-----------------+\n",
      "|KeyConsult45056| keyMedecin5|KeyPatient38017|  Name38017|   FistName38017|NS45057|20.0| 59.79308073160008| 37.56981386307886| 79.76860765451696|      0|Pathology27|KeyTreatment45056|\n",
      "|KeyConsult45057|keyMedecin23|KeyPatient75131|  Name75131|   FistName75131|NS45058|15.0|61.467987016139254|37.565550636587425|164.78151824294875|      0|Pathology57|KeyTreatment45057|\n",
      "|KeyConsult45058|keyMedecin10|KeyPatient27733|  Name27733|   FistName27733|NS45059|18.0| 59.42128540609189|37.481894185240726|124.36385295193881|      0|Pathology60|KeyTreatment45058|\n",
      "|KeyConsult45059|keyMedecin15|KeyPatient76784|  Name76784|   FistName76784|NS45060|20.0| 57.97472255974268| 37.53716746887494| 98.88102903030334|      0|Pathology30|KeyTreatment45059|\n",
      "|KeyConsult45060|keyMedecin29|KeyPatient10645|  Name10645|   FistName10645|NS45061|42.0| 71.27358753191324|  40.3790717818479| 80.79900207017037|      1|Pathology99|KeyTreatment45060|\n",
      "+---------------+------------+---------------+-----------+----------------+-------+----+------------------+------------------+------------------+-------+-----------+-----------------+\n",
      "only showing top 5 rows\n",
      "\n"
     ]
    }
   ],
   "source": [
    "sdf_diagnostics_estim_mean = function_ETL_age_mean(sdf_diagnostics, estim_age_mean)\n",
    "sdf_diagnostics_estim_mean.show(5)"
   ]
  },
  {
   "cell_type": "markdown",
   "metadata": {},
   "source": [
    "**Question 5.bis** Reprendre les algorithmes de la Question 1 pour construire le modèle Étoile ci-dessus mais en considérant cette fois le DataFrame `psdf_diagnostics_estim_mean` puis calculer l'âge moyen corrigé des des patients qui ont eu la `Pathology95` puis la `Pathology18` durant le mois de mars 2023."
   ]
  },
  {
   "cell_type": "code",
   "execution_count": 23,
   "metadata": {},
   "outputs": [
    {
     "name": "stdout",
     "output_type": "stream",
     "text": [
      "Pathology95 :\n"
     ]
    },
    {
     "name": "stderr",
     "output_type": "stream",
     "text": [
      "                                                                                \r"
     ]
    },
    {
     "name": "stdout",
     "output_type": "stream",
     "text": [
      "+-----------------+\n",
      "|         avg(Age)|\n",
      "+-----------------+\n",
      "|40.48563219282432|\n",
      "+-----------------+\n",
      "\n",
      "Pathology18 :\n"
     ]
    },
    {
     "name": "stderr",
     "output_type": "stream",
     "text": [
      "                                                                                \r"
     ]
    },
    {
     "name": "stdout",
     "output_type": "stream",
     "text": [
      "+------------------+\n",
      "|          avg(Age)|\n",
      "+------------------+\n",
      "|20.179396555201482|\n",
      "+------------------+\n",
      "\n",
      "Pathology76 :\n",
      "+-----------------+\n",
      "|         avg(Age)|\n",
      "+-----------------+\n",
      "|69.34131125684405|\n",
      "+-----------------+\n",
      "\n"
     ]
    }
   ],
   "source": [
    "# Tables de Faits :\n",
    "sdf_FAITS_1 = sdf_diagnostics_estim_mean.select('KeyConsult','KeyPatient','KeyMedecin','KeyTreatment').alias('sdf_FAITS_1')\n",
    "sdf_FAITS_2 = sdf_FAITS_1.withColumn('KeyDate', sdf_FAITS_1.KeyConsult)\n",
    "sdf_FAITS_consults = sdf_FAITS_2.join(sdf_administration, 'KeyConsult').select(sdf_FAITS_2[\"*\"],sdf_administration.KeyChambre)\n",
    "\n",
    "# Tables de dimension associée aux Patients :\n",
    "sdf_dim_patients = sdf_diagnostics_estim_mean.select('KeyPatient','KeyConsult','NamePatient','FirstNamePatient','NumSecu','Age','Weight','Temperature','Tension','Diabete','Pathology').alias('sdf_dim_patients')\n",
    "\n",
    "# Tables de dimension associée aux Dates :\n",
    "sdf_dim_date1 = sdf_FAITS_consults.select('KeyDate').alias('sdf_dim_date1')\n",
    "sdf_adm = sdf_administration.select('KeyConsult','Date_In','Date_Out').alias('sdf_adm')\n",
    "sdf_dim_dates = sdf_dim_date1.alias('sdf_dim_date1').join(sdf_adm.alias('sdf_adm'), sdf_dim_date1.KeyDate==sdf_adm.KeyConsult).drop('KeyConsult')\n",
    "\n",
    "# Tables de dimension associée aux Medecins :\n",
    "sdf_dim_medecins = sdf_medecins.select('*')\n",
    "\n",
    "# Tables de dimension associée aux Traitements :\n",
    "sdf_dim_traitement1 = sdf_treatments.alias('sdf_dim_traitements')\n",
    "sdf_dim_traitements = sdf_dim_traitement1.join(sdf_medicaments, sdf_dim_traitement1.KeyMedicament==sdf_medicaments.KeyMedicament).select(sdf_dim_traitement1[\"*\"],sdf_medicaments[\"NameMedicament\"])\n",
    "\n",
    "# Tables de dimension associée aux Chambres :\n",
    "sdf_dim_chambres = sdf_chambres.select('*')\n",
    "\n",
    "\n",
    "############################################################################\n",
    "\n",
    "PathologyQuest = \"Pathology95\"\n",
    "YearQuest = 2023\n",
    "MonthQuest = 3\n",
    "\n",
    "df_DatesQuest = sdf_dim_dates.filter((year(\"Date_in\")==YearQuest) & (month(\"Date_in\")==MonthQuest)).select(col(\"KeyDate\"))\n",
    "df_PathologyQuest = sdf_dim_patients.filter(col(\"Pathology\")==PathologyQuest)\n",
    "\n",
    "FactDatesQuest = sdf_FAITS_consults.alias(\"t1\").join(df_DatesQuest.alias(\"t2\"),'KeyDate').select(sdf_FAITS_consults[\"*\"])\n",
    "PatientsObjectifQuest = df_PathologyQuest.alias(\"s1\").join(FactDatesQuest.alias(\"s2\"),'KeyConsult').select(df_PathologyQuest[\"*\"])\n",
    "print(\"Pathology95 :\")\n",
    "PatientsObjectifQuest.select(avg(col(\"Age\"))).show()\n",
    "\n",
    "\n",
    "############################################################################\n",
    "\n",
    "PathologyQuest = \"Pathology18\"\n",
    "YearQuest = 2023\n",
    "MonthQuest = 3\n",
    "\n",
    "df_DatesQuest = sdf_dim_dates.filter((year(\"Date_in\")==YearQuest) & (month(\"Date_in\")==MonthQuest)).select(col(\"KeyDate\"))\n",
    "df_PathologyQuest = sdf_dim_patients.filter(col(\"Pathology\")==PathologyQuest)\n",
    "\n",
    "FactDatesQuest = sdf_FAITS_consults.alias(\"t1\").join(df_DatesQuest.alias(\"t2\"),'KeyDate').select(sdf_FAITS_consults[\"*\"])\n",
    "PatientsObjectifQuest = df_PathologyQuest.alias(\"s1\").join(FactDatesQuest.alias(\"s2\"),'KeyConsult').select(df_PathologyQuest[\"*\"])\n",
    "print(\"Pathology18 :\")\n",
    "PatientsObjectifQuest.select(avg(col(\"Age\"))).show()\n",
    "\n",
    "############################################################################\n",
    "\n",
    "PathologyQuest = \"Pathology76\"\n",
    "YearQuest = 2023\n",
    "MonthQuest = 7\n",
    "\n",
    "df_DatesQuest = sdf_dim_dates.filter((year(\"Date_in\")==YearQuest) & (month(\"Date_in\")==MonthQuest)).select(col(\"KeyDate\"))\n",
    "df_PathologyQuest = sdf_dim_patients.filter(col(\"Pathology\")==PathologyQuest)\n",
    "\n",
    "FactDatesQuest = sdf_FAITS_consults.alias(\"t1\").join(df_DatesQuest.alias(\"t2\"),'KeyDate').select(sdf_FAITS_consults[\"*\"])\n",
    "PatientsObjectifQuest = df_PathologyQuest.alias(\"s1\").join(FactDatesQuest.alias(\"s2\"),'KeyConsult').select(df_PathologyQuest[\"*\"])\n",
    "print(\"Pathology76 :\")\n",
    "PatientsObjectifQuest.select(avg(col(\"Age\"))).show()"
   ]
  },
  {
   "cell_type": "markdown",
   "metadata": {},
   "source": [
    "**Question 6.** À partir du DataFrame `psdf_diagnostics_clean`, calibrer un modèle d'estimation de l'âge par qui permettra de remplacer les valeurs d'âge atypiques ou manquantes par apprentissage supervisé à partir du DataFrame `psdf_diagnostics_clean`. Nous pourrons pour cela utiliser les fonctions proposées par Scikit-Learn : https://scikit-learn.org/stable/"
   ]
  },
  {
   "cell_type": "markdown",
   "metadata": {},
   "source": [
    "Premier exemple avec les variables \"weight\", \"temperature\", \"tension\" :"
   ]
  },
  {
   "cell_type": "code",
   "execution_count": 24,
   "metadata": {},
   "outputs": [],
   "source": [
    "\n",
    "\n",
    "#Construction XTrain/Ytrain :\n",
    "XTrain_sdf = sdf_diagnostics_clean.select('Weight','Temperature','Tension')\n",
    "XTrain = XTrain_sdf.toPandas()\n",
    "YTrain_sdf = sdf_diagnostics_clean.select('Age')\n",
    "YTrain = YTrain_sdf.toPandas()\n",
    "\n",
    "# Apprentissage model lineaire :\n",
    "from sklearn import linear_model\n",
    "reg_model = linear_model.LinearRegression()\n",
    "reg_model.fit(XTrain, YTrain)\n",
    "\n",
    "# Estimation des valeurs manquantes/atypiques :\n",
    "df = sdf_diagnostics.toPandas()\n",
    "indexToPredict = df[df['Age']>150].index\n",
    "XToPredict = df.loc[indexToPredict, ['Weight','Temperature','Tension']]\n",
    "YAgeEstim = reg_model.predict(XToPredict)\n",
    "df.loc[indexToPredict, 'Age'] = YAgeEstim\n",
    "\n",
    "sdf_diagnostics_estim_ML = spark.createDataFrame(df)\n",
    "\n",
    "\n"
   ]
  },
  {
   "cell_type": "code",
   "execution_count": 25,
   "metadata": {},
   "outputs": [
    {
     "name": "stdout",
     "output_type": "stream",
     "text": [
      "Pathology95 :\n"
     ]
    },
    {
     "name": "stderr",
     "output_type": "stream",
     "text": [
      "                                                                                \r"
     ]
    },
    {
     "name": "stdout",
     "output_type": "stream",
     "text": [
      "+-----------------+\n",
      "|         avg(Age)|\n",
      "+-----------------+\n",
      "|41.79529497105525|\n",
      "+-----------------+\n",
      "\n",
      "Pathology18 :\n"
     ]
    },
    {
     "name": "stderr",
     "output_type": "stream",
     "text": [
      "                                                                                \r"
     ]
    },
    {
     "name": "stdout",
     "output_type": "stream",
     "text": [
      "+-----------------+\n",
      "|         avg(Age)|\n",
      "+-----------------+\n",
      "|19.89145966212464|\n",
      "+-----------------+\n",
      "\n",
      "Pathology76 :\n"
     ]
    },
    {
     "name": "stderr",
     "output_type": "stream",
     "text": [
      "[Stage 130:==========>     (8 + 4) / 12][Stage 131:>               (0 + 8) / 12]\r"
     ]
    },
    {
     "name": "stdout",
     "output_type": "stream",
     "text": [
      "+-----------------+\n",
      "|         avg(Age)|\n",
      "+-----------------+\n",
      "|69.94312060593299|\n",
      "+-----------------+\n",
      "\n"
     ]
    },
    {
     "name": "stderr",
     "output_type": "stream",
     "text": [
      "                                                                                \r"
     ]
    }
   ],
   "source": [
    "# Tables de Faits :\n",
    "sdf_FAITS_1 = sdf_diagnostics_estim_ML.select('KeyConsult','KeyPatient','KeyMedecin','KeyTreatment').alias('sdf_FAITS_1')\n",
    "sdf_FAITS_2 = sdf_FAITS_1.withColumn('KeyDate', sdf_FAITS_1.KeyConsult)\n",
    "sdf_FAITS_consults = sdf_FAITS_2.join(sdf_administration, 'KeyConsult').select(sdf_FAITS_2[\"*\"],sdf_administration.KeyChambre)\n",
    "\n",
    "# Tables de dimension associée aux Patients :\n",
    "sdf_dim_patients = sdf_diagnostics_estim_ML.select('KeyPatient','KeyConsult','NamePatient','FirstNamePatient','NumSecu','Age','Weight','Temperature','Tension','Diabete','Pathology').alias('sdf_dim_patients')\n",
    "\n",
    "# Tables de dimension associée aux Dates :\n",
    "sdf_dim_date1 = sdf_FAITS_consults.select('KeyDate').alias('sdf_dim_date1')\n",
    "sdf_adm = sdf_administration.select('KeyConsult','Date_In','Date_Out').alias('sdf_adm')\n",
    "sdf_dim_dates = sdf_dim_date1.alias('sdf_dim_date1').join(sdf_adm.alias('sdf_adm'), sdf_dim_date1.KeyDate==sdf_adm.KeyConsult).drop('KeyConsult')\n",
    "\n",
    "# Tables de dimension associée aux Medecins :\n",
    "sdf_dim_medecins = sdf_medecins.select('*')\n",
    "\n",
    "# Tables de dimension associée aux Traitements :\n",
    "sdf_dim_traitement1 = sdf_treatments.alias('sdf_dim_traitements')\n",
    "sdf_dim_traitements = sdf_dim_traitement1.join(sdf_medicaments, sdf_dim_traitement1.KeyMedicament==sdf_medicaments.KeyMedicament).select(sdf_dim_traitement1[\"*\"],sdf_medicaments[\"NameMedicament\"])\n",
    "\n",
    "# Tables de dimension associée aux Chambres :\n",
    "sdf_dim_chambres = sdf_chambres.select('*')\n",
    "\n",
    "\n",
    "############################################################################\n",
    "\n",
    "PathologyQuest = \"Pathology95\"\n",
    "YearQuest = 2023\n",
    "MonthQuest = 3\n",
    "\n",
    "df_DatesQuest = sdf_dim_dates.filter((year(\"Date_in\")==YearQuest) & (month(\"Date_in\")==MonthQuest)).select(col(\"KeyDate\"))\n",
    "df_PathologyQuest = sdf_dim_patients.filter(col(\"Pathology\")==PathologyQuest)\n",
    "\n",
    "FactDatesQuest = sdf_FAITS_consults.alias(\"t1\").join(df_DatesQuest.alias(\"t2\"),'KeyDate').select(sdf_FAITS_consults[\"*\"])\n",
    "PatientsObjectifQuest = df_PathologyQuest.alias(\"s1\").join(FactDatesQuest.alias(\"s2\"),'KeyConsult').select(df_PathologyQuest[\"*\"])\n",
    "print(\"Pathology95 :\")\n",
    "PatientsObjectifQuest.select(avg(col(\"Age\"))).show()\n",
    "\n",
    "\n",
    "############################################################################\n",
    "\n",
    "PathologyQuest = \"Pathology18\"\n",
    "YearQuest = 2023\n",
    "MonthQuest = 3\n",
    "\n",
    "df_DatesQuest = sdf_dim_dates.filter((year(\"Date_in\")==YearQuest) & (month(\"Date_in\")==MonthQuest)).select(col(\"KeyDate\"))\n",
    "df_PathologyQuest = sdf_dim_patients.filter(col(\"Pathology\")==PathologyQuest)\n",
    "\n",
    "FactDatesQuest = sdf_FAITS_consults.alias(\"t1\").join(df_DatesQuest.alias(\"t2\"),'KeyDate').select(sdf_FAITS_consults[\"*\"])\n",
    "PatientsObjectifQuest = df_PathologyQuest.alias(\"s1\").join(FactDatesQuest.alias(\"s2\"),'KeyConsult').select(df_PathologyQuest[\"*\"])\n",
    "print(\"Pathology18 :\")\n",
    "PatientsObjectifQuest.select(avg(col(\"Age\"))).show()\n",
    "\n",
    "############################################################################\n",
    "\n",
    "PathologyQuest = \"Pathology76\"\n",
    "YearQuest = 2023\n",
    "MonthQuest = 7\n",
    "\n",
    "df_DatesQuest = sdf_dim_dates.filter((year(\"Date_in\")==YearQuest) & (month(\"Date_in\")==MonthQuest)).select(col(\"KeyDate\"))\n",
    "df_PathologyQuest = sdf_dim_patients.filter(col(\"Pathology\")==PathologyQuest)\n",
    "\n",
    "FactDatesQuest = sdf_FAITS_consults.alias(\"t1\").join(df_DatesQuest.alias(\"t2\"),'KeyDate').select(sdf_FAITS_consults[\"*\"])\n",
    "PatientsObjectifQuest = df_PathologyQuest.alias(\"s1\").join(FactDatesQuest.alias(\"s2\"),'KeyConsult').select(df_PathologyQuest[\"*\"])\n",
    "print(\"Pathology76 :\")\n",
    "PatientsObjectifQuest.select(avg(col(\"Age\"))).show()"
   ]
  },
  {
   "cell_type": "markdown",
   "metadata": {},
   "source": [
    "Deuxième exemple en ajoutant la variable `Pathology` en ***one-hot encoding*** ainsi que la variable `Diabete` :"
   ]
  },
  {
   "cell_type": "code",
   "execution_count": 26,
   "metadata": {},
   "outputs": [],
   "source": [
    "def function_encode_dfWithPathology(Xdf):\n",
    "    pathology_list = []\n",
    "    for i in range(100):\n",
    "        pathology_list.append('Pathology' + str(i+1))\n",
    "    pathology_df = pd.DataFrame(pathology_list)\n",
    "    pathology_df.columns = ['Pathology']\n",
    "    \n",
    "    indexes = Xdf.index\n",
    "\n",
    "    X = np.zeros((np.array(Xdf).shape[0], np.array(Xdf).shape[1]+pathology_df.shape[0]-1))\n",
    "    X[:,0:3] = np.array(Xdf)[:,0:3]\n",
    "    for i in range(X.shape[0]):\n",
    "        j = pathology_df.index[pathology_df['Pathology'] == Xdf.loc[indexes[i],'Pathology']].tolist()[0]\n",
    "        X[i,4+j] = 1\n",
    "\n",
    "    Xnew = pd.DataFrame(X)\n",
    "    Xnew.columns = ['Weight','Temperature','Tension','Diabete'] + pathology_list\n",
    "\n",
    "    return Xnew"
   ]
  },
  {
   "cell_type": "code",
   "execution_count": 27,
   "metadata": {},
   "outputs": [],
   "source": [
    "def function_estim_age_ML(sdf_diagnostics_clean):\n",
    "    \n",
    "    YTrain = sdf_diagnostics_clean.select('Age').toPandas()\n",
    "    Xdf = sdf_diagnostics_clean.select('Weight','Temperature','Tension','Diabete','Pathology').toPandas()\n",
    "    XTrain = function_encode_dfWithPathology(Xdf)\n",
    "    \n",
    "    # Apprentissage model lineaire :\n",
    "    from sklearn import linear_model\n",
    "    reg_model = linear_model.LinearRegression()\n",
    "    reg_model.fit(XTrain, YTrain)\n",
    "    \n",
    "    return reg_model"
   ]
  },
  {
   "cell_type": "code",
   "execution_count": 28,
   "metadata": {},
   "outputs": [],
   "source": [
    "reg_model = function_estim_age_ML(sdf_diagnostics_clean)"
   ]
  },
  {
   "cell_type": "markdown",
   "metadata": {},
   "source": [
    "**Question 8.** Construire une fonction qui permette de remplacer les valeurs d'âge atypiques ou manquantes d'un DataFrame source par la valeurs estimée des âges à partir de la fonction `function_estim_age_ML(psdf_diagnostics_clean)`. Nous appelerons cette nouvelle fonction `function_ETL_age_ML(psdf_diagnostics)`. Cette nouvelle fonction ressortira un nouveau DataFrame contenant l'ensemble des valeurs (celle cohérentes et celles incohérentes estimées puis remplacées). Nous appelerons ce nouveau DataFrame `psdf_diagnostics_estim_ML`."
   ]
  },
  {
   "cell_type": "code",
   "execution_count": 29,
   "metadata": {},
   "outputs": [],
   "source": [
    "def function_ETL_age_ML(sdf_diagnostics, reg_model):\n",
    "    \n",
    "    df = sdf_diagnostics.toPandas()\n",
    "    indexToPredict = df[df['Age']>150].index\n",
    "    XToPredict = df.loc[indexToPredict, ['Weight','Temperature','Tension','Diabete','Pathology']]\n",
    "    XToPredict_encoded = function_encode_dfWithPathology(XToPredict)\n",
    "    YAgeEstim = reg_model.predict(XToPredict_encoded)\n",
    "    df.loc[indexToPredict, 'Age'] = YAgeEstim\n",
    "    \n",
    "    sdf_diagnostics_estim_ML = spark.createDataFrame(df)\n",
    " \n",
    "    return sdf_diagnostics_estim_ML"
   ]
  },
  {
   "cell_type": "code",
   "execution_count": 30,
   "metadata": {},
   "outputs": [],
   "source": [
    "sdf_diagnostics_estim_ML = function_ETL_age_ML(sdf_diagnostics, reg_model)\n",
    "#sdf_diagnostics_estim_ML.show(10)"
   ]
  },
  {
   "cell_type": "markdown",
   "metadata": {},
   "source": [
    "**Question 9.** Reprendre les algorithmes de la Question 1 pour construire le modèle Étoile ci-dessus mais en considérant cette fois le DataFrame `psdf_diagnostics_estim_ML` puis calculer l'âge moyen corrigé des des patients qui ont eu la `Pathology95` puis la `Pathology18` durant le mois de mars 2023."
   ]
  },
  {
   "cell_type": "code",
   "execution_count": 31,
   "metadata": {},
   "outputs": [
    {
     "name": "stdout",
     "output_type": "stream",
     "text": [
      "Pathology95 :\n"
     ]
    },
    {
     "name": "stderr",
     "output_type": "stream",
     "text": [
      "                                                                                \r"
     ]
    },
    {
     "name": "stdout",
     "output_type": "stream",
     "text": [
      "+-----------------+\n",
      "|         avg(Age)|\n",
      "+-----------------+\n",
      "|40.90808886441832|\n",
      "+-----------------+\n",
      "\n",
      "Pathology18 :\n"
     ]
    },
    {
     "name": "stderr",
     "output_type": "stream",
     "text": [
      "                                                                                \r"
     ]
    },
    {
     "name": "stdout",
     "output_type": "stream",
     "text": [
      "+------------------+\n",
      "|          avg(Age)|\n",
      "+------------------+\n",
      "|19.940177996696438|\n",
      "+------------------+\n",
      "\n",
      "Pathology76 :\n"
     ]
    },
    {
     "name": "stderr",
     "output_type": "stream",
     "text": [
      "[Stage 176:>                                                      (0 + 12) / 12]\r"
     ]
    },
    {
     "name": "stdout",
     "output_type": "stream",
     "text": [
      "+-----------------+\n",
      "|         avg(Age)|\n",
      "+-----------------+\n",
      "|70.33922898509589|\n",
      "+-----------------+\n",
      "\n"
     ]
    },
    {
     "name": "stderr",
     "output_type": "stream",
     "text": [
      "                                                                                \r"
     ]
    }
   ],
   "source": [
    "# Tables de Faits :\n",
    "sdf_FAITS_1 = sdf_diagnostics_estim_ML.select('KeyConsult','KeyPatient','KeyMedecin','KeyTreatment').alias('sdf_FAITS_1')\n",
    "sdf_FAITS_2 = sdf_FAITS_1.withColumn('KeyDate', sdf_FAITS_1.KeyConsult)\n",
    "sdf_FAITS_consults = sdf_FAITS_2.join(sdf_administration, 'KeyConsult').select(sdf_FAITS_2[\"*\"],sdf_administration.KeyChambre)\n",
    "\n",
    "# Tables de dimension associée aux Patients :\n",
    "sdf_dim_patients = sdf_diagnostics_estim_ML.select('KeyPatient','KeyConsult','NamePatient','FirstNamePatient','NumSecu','Age','Weight','Temperature','Tension','Diabete','Pathology').alias('sdf_dim_patients')\n",
    "\n",
    "# Tables de dimension associée aux Dates :\n",
    "sdf_dim_date1 = sdf_FAITS_consults.select('KeyDate').alias('sdf_dim_date1')\n",
    "sdf_adm = sdf_administration.select('KeyConsult','Date_In','Date_Out').alias('sdf_adm')\n",
    "sdf_dim_dates = sdf_dim_date1.alias('sdf_dim_date1').join(sdf_adm.alias('sdf_adm'), sdf_dim_date1.KeyDate==sdf_adm.KeyConsult).drop('KeyConsult')\n",
    "\n",
    "# Tables de dimension associée aux Medecins :\n",
    "sdf_dim_medecins = sdf_medecins.select('*')\n",
    "\n",
    "# Tables de dimension associée aux Traitements :\n",
    "sdf_dim_traitement1 = sdf_treatments.alias('sdf_dim_traitements')\n",
    "sdf_dim_traitements = sdf_dim_traitement1.join(sdf_medicaments, sdf_dim_traitement1.KeyMedicament==sdf_medicaments.KeyMedicament).select(sdf_dim_traitement1[\"*\"],sdf_medicaments[\"NameMedicament\"])\n",
    "\n",
    "# Tables de dimension associée aux Chambres :\n",
    "sdf_dim_chambres = sdf_chambres.select('*')\n",
    "\n",
    "\n",
    "############################################################################\n",
    "\n",
    "PathologyQuest = \"Pathology95\"\n",
    "YearQuest = 2023\n",
    "MonthQuest = 3\n",
    "\n",
    "df_DatesQuest = sdf_dim_dates.filter((year(\"Date_in\")==YearQuest) & (month(\"Date_in\")==MonthQuest)).select(col(\"KeyDate\"))\n",
    "df_PathologyQuest = sdf_dim_patients.filter(col(\"Pathology\")==PathologyQuest)\n",
    "\n",
    "FactDatesQuest = sdf_FAITS_consults.alias(\"t1\").join(df_DatesQuest.alias(\"t2\"),'KeyDate').select(sdf_FAITS_consults[\"*\"])\n",
    "PatientsObjectifQuest = df_PathologyQuest.alias(\"s1\").join(FactDatesQuest.alias(\"s2\"),'KeyConsult').select(df_PathologyQuest[\"*\"])\n",
    "print(\"Pathology95 :\")\n",
    "PatientsObjectifQuest.select(avg(col(\"Age\"))).show()\n",
    "\n",
    "\n",
    "############################################################################\n",
    "\n",
    "PathologyQuest = \"Pathology18\"\n",
    "YearQuest = 2023\n",
    "MonthQuest = 3\n",
    "\n",
    "df_DatesQuest = sdf_dim_dates.filter((year(\"Date_in\")==YearQuest) & (month(\"Date_in\")==MonthQuest)).select(col(\"KeyDate\"))\n",
    "df_PathologyQuest = sdf_dim_patients.filter(col(\"Pathology\")==PathologyQuest)\n",
    "\n",
    "FactDatesQuest = sdf_FAITS_consults.alias(\"t1\").join(df_DatesQuest.alias(\"t2\"),'KeyDate').select(sdf_FAITS_consults[\"*\"])\n",
    "PatientsObjectifQuest = df_PathologyQuest.alias(\"s1\").join(FactDatesQuest.alias(\"s2\"),'KeyConsult').select(df_PathologyQuest[\"*\"])\n",
    "print(\"Pathology18 :\")\n",
    "PatientsObjectifQuest.select(avg(col(\"Age\"))).show()\n",
    "\n",
    "############################################################################\n",
    "\n",
    "PathologyQuest = \"Pathology76\"\n",
    "YearQuest = 2023\n",
    "MonthQuest = 7\n",
    "\n",
    "df_DatesQuest = sdf_dim_dates.filter((year(\"Date_in\")==YearQuest) & (month(\"Date_in\")==MonthQuest)).select(col(\"KeyDate\"))\n",
    "df_PathologyQuest = sdf_dim_patients.filter(col(\"Pathology\")==PathologyQuest)\n",
    "\n",
    "FactDatesQuest = sdf_FAITS_consults.alias(\"t1\").join(df_DatesQuest.alias(\"t2\"),'KeyDate').select(sdf_FAITS_consults[\"*\"])\n",
    "PatientsObjectifQuest = df_PathologyQuest.alias(\"s1\").join(FactDatesQuest.alias(\"s2\"),'KeyConsult').select(df_PathologyQuest[\"*\"])\n",
    "print(\"Pathology76 :\")\n",
    "PatientsObjectifQuest.select(avg(col(\"Age\"))).show()"
   ]
  },
  {
   "cell_type": "markdown",
   "metadata": {},
   "source": [
    "### Remarque. Dans le but de pouvoir comparer les résultats pour chaque méthode, les réponses que nous aurions eu à partir des données initialement clean et réelles auraient été :\n",
    "- Pour la `Pathology95` durant le mois de mars 2023 : avg(Age) = 41.205128205128204\n",
    "- Pour la `Pathology18` durant le mois de mars 2023 : avg(Age) = 20.0\n",
    "- Pour la `Pathology76` durant le mois de juillet 2023 : avg(Age) = 70.56756756756756"
   ]
  },
  {
   "cell_type": "code",
   "execution_count": null,
   "metadata": {},
   "outputs": [],
   "source": []
  },
  {
   "cell_type": "code",
   "execution_count": null,
   "metadata": {},
   "outputs": [],
   "source": []
  }
 ],
 "metadata": {
  "kernelspec": {
   "display_name": "Python 3 (ipykernel)",
   "language": "python",
   "name": "python3"
  },
  "language_info": {
   "codemirror_mode": {
    "name": "ipython",
    "version": 3
   },
   "file_extension": ".py",
   "mimetype": "text/x-python",
   "name": "python",
   "nbconvert_exporter": "python",
   "pygments_lexer": "ipython3",
   "version": "3.11.10"
  }
 },
 "nbformat": 4,
 "nbformat_minor": 1
}
